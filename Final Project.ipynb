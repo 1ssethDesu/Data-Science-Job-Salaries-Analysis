{
 "cells": [
  {
   "cell_type": "markdown",
   "id": "52b8eebf",
   "metadata": {},
   "source": [
    "# Final Project - Data Visualization\n",
    "\n",
    "## Chhort Chhorraseth\n",
    "This dataset provides a comprehensive understanding about salary trend and workforce dynamics within a specific professions. It is structured to include columns that detail various attributes related to employee roles and their corresponding compensation. The dataset typically includes the following key columns:\n",
    "1. **work_year:** The year the salary was paid.\n",
    "2. **experience_level:** The experience level in the job during the year\n",
    "3. **employment_type:** The type of employment for the role\n",
    "\n",
    "4. **job_title:** The role worked in during the year.\n",
    "\n",
    "5. **salary:** The total gross salary amount paid.\n",
    "\n",
    "6. **salary_currency:** The currency of the salary paid as an ISO 4217 currency code.\n",
    "\n",
    "7. **salaryinusd:** The salary in USD\n",
    "\n",
    "8. **employee_residence:** Employee's primary country of residence in during the work year as an ISO 3166 country code.\n",
    "\n",
    "9. **remote_ratio:** The overall amount of work done remotely\n",
    "\n",
    "10. **company_location:** The country of the employer's main office or contracting branch\n",
    "\n",
    "11. **company_size:** The median number of people that worked for the company during the year\n",
    "\n",
    "The dataset serves as a powerful resource for analyzing salary distribution across various roles, experience levels, and organizational contexts. It enables stakeholders to identify trends such as the demand for specific experience levels, the geographic influence on salary, and variations in compensation by company size or job title.\n",
    "\n"
   ]
  },
  {
   "cell_type": "code",
   "execution_count": 1,
   "id": "2f2a02e6-94b3-4bd9-a635-fb6bd23ee262",
   "metadata": {},
   "outputs": [],
   "source": [
    "import pandas as pd\n",
    "import numpy as np\n",
    "import plotly.graph_objects as go"
   ]
  },
  {
   "cell_type": "code",
   "execution_count": 2,
   "id": "300aa4d2-431d-4202-8ae5-d168386d397e",
   "metadata": {},
   "outputs": [],
   "source": [
    "df = pd.read_csv('ds_salaries.csv')"
   ]
  },
  {
   "cell_type": "code",
   "execution_count": 3,
   "id": "4a9be96c-93c5-4f5d-a902-5cbbdc9a91ff",
   "metadata": {},
   "outputs": [
    {
     "data": {
      "text/html": [
       "<div>\n",
       "<style scoped>\n",
       "    .dataframe tbody tr th:only-of-type {\n",
       "        vertical-align: middle;\n",
       "    }\n",
       "\n",
       "    .dataframe tbody tr th {\n",
       "        vertical-align: top;\n",
       "    }\n",
       "\n",
       "    .dataframe thead th {\n",
       "        text-align: right;\n",
       "    }\n",
       "</style>\n",
       "<table border=\"1\" class=\"dataframe\">\n",
       "  <thead>\n",
       "    <tr style=\"text-align: right;\">\n",
       "      <th></th>\n",
       "      <th>Unnamed: 0</th>\n",
       "      <th>work_year</th>\n",
       "      <th>experience_level</th>\n",
       "      <th>employment_type</th>\n",
       "      <th>job_title</th>\n",
       "      <th>salary</th>\n",
       "      <th>salary_currency</th>\n",
       "      <th>salary_in_usd</th>\n",
       "      <th>employee_residence</th>\n",
       "      <th>remote_ratio</th>\n",
       "      <th>company_location</th>\n",
       "      <th>company_size</th>\n",
       "    </tr>\n",
       "  </thead>\n",
       "  <tbody>\n",
       "    <tr>\n",
       "      <th>0</th>\n",
       "      <td>0</td>\n",
       "      <td>2020</td>\n",
       "      <td>MI</td>\n",
       "      <td>FT</td>\n",
       "      <td>Data Scientist</td>\n",
       "      <td>70000</td>\n",
       "      <td>EUR</td>\n",
       "      <td>79833</td>\n",
       "      <td>DE</td>\n",
       "      <td>0</td>\n",
       "      <td>DE</td>\n",
       "      <td>L</td>\n",
       "    </tr>\n",
       "    <tr>\n",
       "      <th>1</th>\n",
       "      <td>1</td>\n",
       "      <td>2020</td>\n",
       "      <td>SE</td>\n",
       "      <td>FT</td>\n",
       "      <td>Machine Learning Scientist</td>\n",
       "      <td>260000</td>\n",
       "      <td>USD</td>\n",
       "      <td>260000</td>\n",
       "      <td>JP</td>\n",
       "      <td>0</td>\n",
       "      <td>JP</td>\n",
       "      <td>S</td>\n",
       "    </tr>\n",
       "    <tr>\n",
       "      <th>2</th>\n",
       "      <td>2</td>\n",
       "      <td>2020</td>\n",
       "      <td>SE</td>\n",
       "      <td>FT</td>\n",
       "      <td>Big Data Engineer</td>\n",
       "      <td>85000</td>\n",
       "      <td>GBP</td>\n",
       "      <td>109024</td>\n",
       "      <td>GB</td>\n",
       "      <td>50</td>\n",
       "      <td>GB</td>\n",
       "      <td>M</td>\n",
       "    </tr>\n",
       "    <tr>\n",
       "      <th>3</th>\n",
       "      <td>3</td>\n",
       "      <td>2020</td>\n",
       "      <td>MI</td>\n",
       "      <td>FT</td>\n",
       "      <td>Product Data Analyst</td>\n",
       "      <td>20000</td>\n",
       "      <td>USD</td>\n",
       "      <td>20000</td>\n",
       "      <td>HN</td>\n",
       "      <td>0</td>\n",
       "      <td>HN</td>\n",
       "      <td>S</td>\n",
       "    </tr>\n",
       "    <tr>\n",
       "      <th>4</th>\n",
       "      <td>4</td>\n",
       "      <td>2020</td>\n",
       "      <td>SE</td>\n",
       "      <td>FT</td>\n",
       "      <td>Machine Learning Engineer</td>\n",
       "      <td>150000</td>\n",
       "      <td>USD</td>\n",
       "      <td>150000</td>\n",
       "      <td>US</td>\n",
       "      <td>50</td>\n",
       "      <td>US</td>\n",
       "      <td>L</td>\n",
       "    </tr>\n",
       "  </tbody>\n",
       "</table>\n",
       "</div>"
      ],
      "text/plain": [
       "   Unnamed: 0  work_year experience_level employment_type  \\\n",
       "0           0       2020               MI              FT   \n",
       "1           1       2020               SE              FT   \n",
       "2           2       2020               SE              FT   \n",
       "3           3       2020               MI              FT   \n",
       "4           4       2020               SE              FT   \n",
       "\n",
       "                    job_title  salary salary_currency  salary_in_usd  \\\n",
       "0              Data Scientist   70000             EUR          79833   \n",
       "1  Machine Learning Scientist  260000             USD         260000   \n",
       "2           Big Data Engineer   85000             GBP         109024   \n",
       "3        Product Data Analyst   20000             USD          20000   \n",
       "4   Machine Learning Engineer  150000             USD         150000   \n",
       "\n",
       "  employee_residence  remote_ratio company_location company_size  \n",
       "0                 DE             0               DE            L  \n",
       "1                 JP             0               JP            S  \n",
       "2                 GB            50               GB            M  \n",
       "3                 HN             0               HN            S  \n",
       "4                 US            50               US            L  "
      ]
     },
     "execution_count": 3,
     "metadata": {},
     "output_type": "execute_result"
    }
   ],
   "source": [
    "df.head()"
   ]
  },
  {
   "cell_type": "code",
   "execution_count": 4,
   "id": "ff0afd92",
   "metadata": {},
   "outputs": [
    {
     "name": "stdout",
     "output_type": "stream",
     "text": [
      "<class 'pandas.core.frame.DataFrame'>\n",
      "RangeIndex: 607 entries, 0 to 606\n",
      "Data columns (total 12 columns):\n",
      " #   Column              Non-Null Count  Dtype \n",
      "---  ------              --------------  ----- \n",
      " 0   Unnamed: 0          607 non-null    int64 \n",
      " 1   work_year           607 non-null    int64 \n",
      " 2   experience_level    607 non-null    object\n",
      " 3   employment_type     607 non-null    object\n",
      " 4   job_title           607 non-null    object\n",
      " 5   salary              607 non-null    int64 \n",
      " 6   salary_currency     607 non-null    object\n",
      " 7   salary_in_usd       607 non-null    int64 \n",
      " 8   employee_residence  607 non-null    object\n",
      " 9   remote_ratio        607 non-null    int64 \n",
      " 10  company_location    607 non-null    object\n",
      " 11  company_size        607 non-null    object\n",
      "dtypes: int64(5), object(7)\n",
      "memory usage: 57.0+ KB\n"
     ]
    }
   ],
   "source": [
    "df.info()"
   ]
  },
  {
   "cell_type": "code",
   "execution_count": 5,
   "id": "0b49ac93",
   "metadata": {},
   "outputs": [],
   "source": [
    "# Unnamed and salary_currency columns are dropped since it is not nescessary used for analysis\n",
    "df.drop(['Unnamed: 0','salary_currency'], axis=1, inplace=True)"
   ]
  },
  {
   "cell_type": "code",
   "execution_count": 6,
   "id": "1829d67b",
   "metadata": {},
   "outputs": [
    {
     "name": "stdout",
     "output_type": "stream",
     "text": [
      "Number of Rows 607\n",
      "Number of Columns 10\n"
     ]
    }
   ],
   "source": [
    "df.shape\n",
    "print('Number of Rows', df.shape[0])\n",
    "print('Number of Columns', df.shape[1])"
   ]
  },
  {
   "cell_type": "code",
   "execution_count": 7,
   "id": "e5eae012",
   "metadata": {},
   "outputs": [
    {
     "data": {
      "text/plain": [
       "work_year             0\n",
       "experience_level      0\n",
       "employment_type       0\n",
       "job_title             0\n",
       "salary                0\n",
       "salary_in_usd         0\n",
       "employee_residence    0\n",
       "remote_ratio          0\n",
       "company_location      0\n",
       "company_size          0\n",
       "dtype: int64"
      ]
     },
     "execution_count": 7,
     "metadata": {},
     "output_type": "execute_result"
    }
   ],
   "source": [
    "# Check if there are any missing values\n",
    "df.isna().sum()"
   ]
  },
  {
   "cell_type": "code",
   "execution_count": 8,
   "id": "a2434705",
   "metadata": {},
   "outputs": [
    {
     "name": "stdout",
     "output_type": "stream",
     "text": [
      "\n",
      "Number of unique values in Categorical variables:\n",
      "\n",
      "experience_level        4\n",
      "employment_type         4\n",
      "job_title              50\n",
      "salary                272\n",
      "employee_residence     57\n",
      "remote_ratio            3\n",
      "company_location       50\n",
      "company_size            3\n",
      "dtype: int64\n"
     ]
    }
   ],
   "source": [
    "# Check unique value in each column\n",
    "category = [ 'experience_level', 'employment_type', 'job_title',\n",
    "       'salary', 'employee_residence', 'remote_ratio',\n",
    "       'company_location', 'company_size']\n",
    "print ('\\nNumber of unique values in Categorical variables:\\n')\n",
    "print(df[category].nunique())"
   ]
  },
  {
   "cell_type": "markdown",
   "id": "20426ed9",
   "metadata": {},
   "source": [
    "**1. What percentage of the workforce belongs to each experience level, and how evenly distributed are the experience levels?**"
   ]
  },
  {
   "cell_type": "code",
   "execution_count": 9,
   "id": "43b5531d-e7d9-45d3-a534-897a15bc9f81",
   "metadata": {},
   "outputs": [],
   "source": [
    "import plotly.express as px"
   ]
  },
  {
   "cell_type": "code",
   "execution_count": 10,
   "id": "eb22aa49",
   "metadata": {},
   "outputs": [
    {
     "data": {
      "application/vnd.plotly.v1+json": {
       "config": {
        "plotlyServerURL": "https://plot.ly"
       },
       "data": [
        {
         "branchvalues": "total",
         "customdata": [
          [
           14.5
          ],
          [
           4.28
          ],
          [
           35.09
          ],
          [
           46.13
          ]
         ],
         "domain": {
          "x": [
           0,
           1
          ],
          "y": [
           0,
           1
          ]
         },
         "hovertemplate": "labels=%{label}<br>Count=%{value}<br>parent=%{parent}<br>id=%{id}<br>Percentage=%{color}<extra></extra>",
         "ids": [
          "Entry-level/Junior<br>88<br>14.5%",
          "Executive-level/Director<br>26<br>4.28%",
          "Mid-level/Intermediate<br>213<br>35.09%",
          "Senior-level/Expert<br>280<br>46.13%"
         ],
         "labels": [
          "Entry-level/Junior<br>88<br>14.5%",
          "Executive-level/Director<br>26<br>4.28%",
          "Mid-level/Intermediate<br>213<br>35.09%",
          "Senior-level/Expert<br>280<br>46.13%"
         ],
         "marker": {
          "coloraxis": "coloraxis",
          "colors": [
           14.5,
           4.28,
           35.09,
           46.13
          ]
         },
         "name": "",
         "parents": [
          "",
          "",
          "",
          ""
         ],
         "type": "treemap",
         "values": [
          88,
          26,
          213,
          280
         ]
        }
       ],
       "layout": {
        "coloraxis": {
         "colorbar": {
          "title": {
           "text": "Percentage"
          }
         },
         "colorscale": [
          [
           0,
           "rgb(255,247,251)"
          ],
          [
           0.125,
           "rgb(236,226,240)"
          ],
          [
           0.25,
           "rgb(208,209,230)"
          ],
          [
           0.375,
           "rgb(166,189,219)"
          ],
          [
           0.5,
           "rgb(103,169,207)"
          ],
          [
           0.625,
           "rgb(54,144,192)"
          ],
          [
           0.75,
           "rgb(2,129,138)"
          ],
          [
           0.875,
           "rgb(1,108,89)"
          ],
          [
           1,
           "rgb(1,70,54)"
          ]
         ]
        },
        "height": 500,
        "legend": {
         "tracegroupgap": 0
        },
        "template": {
         "data": {
          "bar": [
           {
            "error_x": {
             "color": "#f2f5fa"
            },
            "error_y": {
             "color": "#f2f5fa"
            },
            "marker": {
             "line": {
              "color": "rgb(17,17,17)",
              "width": 0.5
             },
             "pattern": {
              "fillmode": "overlay",
              "size": 10,
              "solidity": 0.2
             }
            },
            "type": "bar"
           }
          ],
          "barpolar": [
           {
            "marker": {
             "line": {
              "color": "rgb(17,17,17)",
              "width": 0.5
             },
             "pattern": {
              "fillmode": "overlay",
              "size": 10,
              "solidity": 0.2
             }
            },
            "type": "barpolar"
           }
          ],
          "carpet": [
           {
            "aaxis": {
             "endlinecolor": "#A2B1C6",
             "gridcolor": "#506784",
             "linecolor": "#506784",
             "minorgridcolor": "#506784",
             "startlinecolor": "#A2B1C6"
            },
            "baxis": {
             "endlinecolor": "#A2B1C6",
             "gridcolor": "#506784",
             "linecolor": "#506784",
             "minorgridcolor": "#506784",
             "startlinecolor": "#A2B1C6"
            },
            "type": "carpet"
           }
          ],
          "choropleth": [
           {
            "colorbar": {
             "outlinewidth": 0,
             "ticks": ""
            },
            "type": "choropleth"
           }
          ],
          "contour": [
           {
            "colorbar": {
             "outlinewidth": 0,
             "ticks": ""
            },
            "colorscale": [
             [
              0,
              "#0d0887"
             ],
             [
              0.1111111111111111,
              "#46039f"
             ],
             [
              0.2222222222222222,
              "#7201a8"
             ],
             [
              0.3333333333333333,
              "#9c179e"
             ],
             [
              0.4444444444444444,
              "#bd3786"
             ],
             [
              0.5555555555555556,
              "#d8576b"
             ],
             [
              0.6666666666666666,
              "#ed7953"
             ],
             [
              0.7777777777777778,
              "#fb9f3a"
             ],
             [
              0.8888888888888888,
              "#fdca26"
             ],
             [
              1,
              "#f0f921"
             ]
            ],
            "type": "contour"
           }
          ],
          "contourcarpet": [
           {
            "colorbar": {
             "outlinewidth": 0,
             "ticks": ""
            },
            "type": "contourcarpet"
           }
          ],
          "heatmap": [
           {
            "colorbar": {
             "outlinewidth": 0,
             "ticks": ""
            },
            "colorscale": [
             [
              0,
              "#0d0887"
             ],
             [
              0.1111111111111111,
              "#46039f"
             ],
             [
              0.2222222222222222,
              "#7201a8"
             ],
             [
              0.3333333333333333,
              "#9c179e"
             ],
             [
              0.4444444444444444,
              "#bd3786"
             ],
             [
              0.5555555555555556,
              "#d8576b"
             ],
             [
              0.6666666666666666,
              "#ed7953"
             ],
             [
              0.7777777777777778,
              "#fb9f3a"
             ],
             [
              0.8888888888888888,
              "#fdca26"
             ],
             [
              1,
              "#f0f921"
             ]
            ],
            "type": "heatmap"
           }
          ],
          "heatmapgl": [
           {
            "colorbar": {
             "outlinewidth": 0,
             "ticks": ""
            },
            "colorscale": [
             [
              0,
              "#0d0887"
             ],
             [
              0.1111111111111111,
              "#46039f"
             ],
             [
              0.2222222222222222,
              "#7201a8"
             ],
             [
              0.3333333333333333,
              "#9c179e"
             ],
             [
              0.4444444444444444,
              "#bd3786"
             ],
             [
              0.5555555555555556,
              "#d8576b"
             ],
             [
              0.6666666666666666,
              "#ed7953"
             ],
             [
              0.7777777777777778,
              "#fb9f3a"
             ],
             [
              0.8888888888888888,
              "#fdca26"
             ],
             [
              1,
              "#f0f921"
             ]
            ],
            "type": "heatmapgl"
           }
          ],
          "histogram": [
           {
            "marker": {
             "pattern": {
              "fillmode": "overlay",
              "size": 10,
              "solidity": 0.2
             }
            },
            "type": "histogram"
           }
          ],
          "histogram2d": [
           {
            "colorbar": {
             "outlinewidth": 0,
             "ticks": ""
            },
            "colorscale": [
             [
              0,
              "#0d0887"
             ],
             [
              0.1111111111111111,
              "#46039f"
             ],
             [
              0.2222222222222222,
              "#7201a8"
             ],
             [
              0.3333333333333333,
              "#9c179e"
             ],
             [
              0.4444444444444444,
              "#bd3786"
             ],
             [
              0.5555555555555556,
              "#d8576b"
             ],
             [
              0.6666666666666666,
              "#ed7953"
             ],
             [
              0.7777777777777778,
              "#fb9f3a"
             ],
             [
              0.8888888888888888,
              "#fdca26"
             ],
             [
              1,
              "#f0f921"
             ]
            ],
            "type": "histogram2d"
           }
          ],
          "histogram2dcontour": [
           {
            "colorbar": {
             "outlinewidth": 0,
             "ticks": ""
            },
            "colorscale": [
             [
              0,
              "#0d0887"
             ],
             [
              0.1111111111111111,
              "#46039f"
             ],
             [
              0.2222222222222222,
              "#7201a8"
             ],
             [
              0.3333333333333333,
              "#9c179e"
             ],
             [
              0.4444444444444444,
              "#bd3786"
             ],
             [
              0.5555555555555556,
              "#d8576b"
             ],
             [
              0.6666666666666666,
              "#ed7953"
             ],
             [
              0.7777777777777778,
              "#fb9f3a"
             ],
             [
              0.8888888888888888,
              "#fdca26"
             ],
             [
              1,
              "#f0f921"
             ]
            ],
            "type": "histogram2dcontour"
           }
          ],
          "mesh3d": [
           {
            "colorbar": {
             "outlinewidth": 0,
             "ticks": ""
            },
            "type": "mesh3d"
           }
          ],
          "parcoords": [
           {
            "line": {
             "colorbar": {
              "outlinewidth": 0,
              "ticks": ""
             }
            },
            "type": "parcoords"
           }
          ],
          "pie": [
           {
            "automargin": true,
            "type": "pie"
           }
          ],
          "scatter": [
           {
            "marker": {
             "line": {
              "color": "#283442"
             }
            },
            "type": "scatter"
           }
          ],
          "scatter3d": [
           {
            "line": {
             "colorbar": {
              "outlinewidth": 0,
              "ticks": ""
             }
            },
            "marker": {
             "colorbar": {
              "outlinewidth": 0,
              "ticks": ""
             }
            },
            "type": "scatter3d"
           }
          ],
          "scattercarpet": [
           {
            "marker": {
             "colorbar": {
              "outlinewidth": 0,
              "ticks": ""
             }
            },
            "type": "scattercarpet"
           }
          ],
          "scattergeo": [
           {
            "marker": {
             "colorbar": {
              "outlinewidth": 0,
              "ticks": ""
             }
            },
            "type": "scattergeo"
           }
          ],
          "scattergl": [
           {
            "marker": {
             "line": {
              "color": "#283442"
             }
            },
            "type": "scattergl"
           }
          ],
          "scattermapbox": [
           {
            "marker": {
             "colorbar": {
              "outlinewidth": 0,
              "ticks": ""
             }
            },
            "type": "scattermapbox"
           }
          ],
          "scatterpolar": [
           {
            "marker": {
             "colorbar": {
              "outlinewidth": 0,
              "ticks": ""
             }
            },
            "type": "scatterpolar"
           }
          ],
          "scatterpolargl": [
           {
            "marker": {
             "colorbar": {
              "outlinewidth": 0,
              "ticks": ""
             }
            },
            "type": "scatterpolargl"
           }
          ],
          "scatterternary": [
           {
            "marker": {
             "colorbar": {
              "outlinewidth": 0,
              "ticks": ""
             }
            },
            "type": "scatterternary"
           }
          ],
          "surface": [
           {
            "colorbar": {
             "outlinewidth": 0,
             "ticks": ""
            },
            "colorscale": [
             [
              0,
              "#0d0887"
             ],
             [
              0.1111111111111111,
              "#46039f"
             ],
             [
              0.2222222222222222,
              "#7201a8"
             ],
             [
              0.3333333333333333,
              "#9c179e"
             ],
             [
              0.4444444444444444,
              "#bd3786"
             ],
             [
              0.5555555555555556,
              "#d8576b"
             ],
             [
              0.6666666666666666,
              "#ed7953"
             ],
             [
              0.7777777777777778,
              "#fb9f3a"
             ],
             [
              0.8888888888888888,
              "#fdca26"
             ],
             [
              1,
              "#f0f921"
             ]
            ],
            "type": "surface"
           }
          ],
          "table": [
           {
            "cells": {
             "fill": {
              "color": "#506784"
             },
             "line": {
              "color": "rgb(17,17,17)"
             }
            },
            "header": {
             "fill": {
              "color": "#2a3f5f"
             },
             "line": {
              "color": "rgb(17,17,17)"
             }
            },
            "type": "table"
           }
          ]
         },
         "layout": {
          "annotationdefaults": {
           "arrowcolor": "#f2f5fa",
           "arrowhead": 0,
           "arrowwidth": 1
          },
          "autotypenumbers": "strict",
          "coloraxis": {
           "colorbar": {
            "outlinewidth": 0,
            "ticks": ""
           }
          },
          "colorscale": {
           "diverging": [
            [
             0,
             "#8e0152"
            ],
            [
             0.1,
             "#c51b7d"
            ],
            [
             0.2,
             "#de77ae"
            ],
            [
             0.3,
             "#f1b6da"
            ],
            [
             0.4,
             "#fde0ef"
            ],
            [
             0.5,
             "#f7f7f7"
            ],
            [
             0.6,
             "#e6f5d0"
            ],
            [
             0.7,
             "#b8e186"
            ],
            [
             0.8,
             "#7fbc41"
            ],
            [
             0.9,
             "#4d9221"
            ],
            [
             1,
             "#276419"
            ]
           ],
           "sequential": [
            [
             0,
             "#0d0887"
            ],
            [
             0.1111111111111111,
             "#46039f"
            ],
            [
             0.2222222222222222,
             "#7201a8"
            ],
            [
             0.3333333333333333,
             "#9c179e"
            ],
            [
             0.4444444444444444,
             "#bd3786"
            ],
            [
             0.5555555555555556,
             "#d8576b"
            ],
            [
             0.6666666666666666,
             "#ed7953"
            ],
            [
             0.7777777777777778,
             "#fb9f3a"
            ],
            [
             0.8888888888888888,
             "#fdca26"
            ],
            [
             1,
             "#f0f921"
            ]
           ],
           "sequentialminus": [
            [
             0,
             "#0d0887"
            ],
            [
             0.1111111111111111,
             "#46039f"
            ],
            [
             0.2222222222222222,
             "#7201a8"
            ],
            [
             0.3333333333333333,
             "#9c179e"
            ],
            [
             0.4444444444444444,
             "#bd3786"
            ],
            [
             0.5555555555555556,
             "#d8576b"
            ],
            [
             0.6666666666666666,
             "#ed7953"
            ],
            [
             0.7777777777777778,
             "#fb9f3a"
            ],
            [
             0.8888888888888888,
             "#fdca26"
            ],
            [
             1,
             "#f0f921"
            ]
           ]
          },
          "colorway": [
           "#636efa",
           "#EF553B",
           "#00cc96",
           "#ab63fa",
           "#FFA15A",
           "#19d3f3",
           "#FF6692",
           "#B6E880",
           "#FF97FF",
           "#FECB52"
          ],
          "font": {
           "color": "#f2f5fa"
          },
          "geo": {
           "bgcolor": "rgb(17,17,17)",
           "lakecolor": "rgb(17,17,17)",
           "landcolor": "rgb(17,17,17)",
           "showlakes": true,
           "showland": true,
           "subunitcolor": "#506784"
          },
          "hoverlabel": {
           "align": "left"
          },
          "hovermode": "closest",
          "mapbox": {
           "style": "dark"
          },
          "paper_bgcolor": "rgb(17,17,17)",
          "plot_bgcolor": "rgb(17,17,17)",
          "polar": {
           "angularaxis": {
            "gridcolor": "#506784",
            "linecolor": "#506784",
            "ticks": ""
           },
           "bgcolor": "rgb(17,17,17)",
           "radialaxis": {
            "gridcolor": "#506784",
            "linecolor": "#506784",
            "ticks": ""
           }
          },
          "scene": {
           "xaxis": {
            "backgroundcolor": "rgb(17,17,17)",
            "gridcolor": "#506784",
            "gridwidth": 2,
            "linecolor": "#506784",
            "showbackground": true,
            "ticks": "",
            "zerolinecolor": "#C8D4E3"
           },
           "yaxis": {
            "backgroundcolor": "rgb(17,17,17)",
            "gridcolor": "#506784",
            "gridwidth": 2,
            "linecolor": "#506784",
            "showbackground": true,
            "ticks": "",
            "zerolinecolor": "#C8D4E3"
           },
           "zaxis": {
            "backgroundcolor": "rgb(17,17,17)",
            "gridcolor": "#506784",
            "gridwidth": 2,
            "linecolor": "#506784",
            "showbackground": true,
            "ticks": "",
            "zerolinecolor": "#C8D4E3"
           }
          },
          "shapedefaults": {
           "line": {
            "color": "#f2f5fa"
           }
          },
          "sliderdefaults": {
           "bgcolor": "#C8D4E3",
           "bordercolor": "rgb(17,17,17)",
           "borderwidth": 1,
           "tickwidth": 0
          },
          "ternary": {
           "aaxis": {
            "gridcolor": "#506784",
            "linecolor": "#506784",
            "ticks": ""
           },
           "baxis": {
            "gridcolor": "#506784",
            "linecolor": "#506784",
            "ticks": ""
           },
           "bgcolor": "rgb(17,17,17)",
           "caxis": {
            "gridcolor": "#506784",
            "linecolor": "#506784",
            "ticks": ""
           }
          },
          "title": {
           "x": 0.05
          },
          "updatemenudefaults": {
           "bgcolor": "#506784",
           "borderwidth": 0
          },
          "xaxis": {
           "automargin": true,
           "gridcolor": "#283442",
           "linecolor": "#506784",
           "ticks": "",
           "title": {
            "standoff": 15
           },
           "zerolinecolor": "#283442",
           "zerolinewidth": 2
          },
          "yaxis": {
           "automargin": true,
           "gridcolor": "#283442",
           "linecolor": "#506784",
           "ticks": "",
           "title": {
            "standoff": 15
           },
           "zerolinecolor": "#283442",
           "zerolinewidth": 2
          }
         }
        },
        "title": {
         "text": "Experience Level Distribution"
        },
        "width": 1000
       }
      }
     },
     "metadata": {},
     "output_type": "display_data"
    }
   ],
   "source": [
    "ex_level = df['experience_level'].value_counts().reset_index()\n",
    "ex_level.columns = ['Experience Level', 'Count']\n",
    "\n",
    "# Replace short names with full descriptive names\n",
    "ex_level['Experience Level'] = ex_level['Experience Level'].replace({\n",
    "    'EN': 'Entry-level/Junior',\n",
    "    'MI': 'Mid-level/Intermediate',\n",
    "    'SE': 'Senior-level/Expert',\n",
    "    'EX': 'Executive-level/Director'\n",
    "})\n",
    "\n",
    "# Calculate percentages and create labels\n",
    "ex_level['Percentage'] = (ex_level['Count'] / ex_level['Count'].sum() * 100).round(2)\n",
    "ex_level['Label'] = ex_level.apply(\n",
    "    lambda row: f\"{row['Experience Level']}<br>{row['Count']}<br>{row['Percentage']}%\", axis=1\n",
    ")\n",
    "\n",
    "# Create a treemap\n",
    "fig = px.treemap(\n",
    "    ex_level,\n",
    "    path=['Label'],  # Use the label with descriptive names\n",
    "    values='Count',  \n",
    "    color='Percentage',  \n",
    "    color_continuous_scale=px.colors.sequential.PuBuGn,\n",
    "    title='Experience Level Distribution',\n",
    "    template='plotly_dark',\n",
    "    width=1000,\n",
    "    height=500\n",
    ")\n",
    "\n",
    "fig.show()\n",
    "\n"
   ]
  },
  {
   "cell_type": "markdown",
   "id": "f948df70",
   "metadata": {},
   "source": [
    "This graph simply emphasizes the distribution of experience level across a dataset, categorized into 4 groups (Entry-level/Junior, Mid-level/Intermediate, Senior-level/Expert, Executive-level/Director) along with their respective proportions. It provides an insight into what experience level or roles are in high-demand within the dataset.<br><br>\n",
    "**Key Insights**\n",
    "- The most prominent group is Senior-level/Expert, comprising 46.13% of the total, indicating a strong preference for individuals with significant expertises. \n",
    "Mid-level/Intermediate roles follow at 35.09%, suggesting a substaintial need for individuals with moderate experience who can contribute reliably while also growing into a senior level. Together these 2 categories dominate the dataset making up over 80% of the overall distribution.\n",
    "\n",
    "- Entry-level/Junior on the other hand, fall into only 14.5% indicating that there are relatively scarcity of opportunities for fresh talent or early-career professionals because it might be challenges for individuals entering the industry.\n",
    "\n",
    "- Lastly, Executive-level/Director also represents a small proportion at just 4.28%. which is expected from leadership position compared to operational roles. \n",
    "\n",
    "Overall, the graph reflects a workforce structure prioritizing expertise and leadership while offering limited entry points for junior professionals. It provides a useful perspective for organizations to assess their talent pipeline and for individuals to understand the competitiveness of entering the industry. \n"
   ]
  },
  {
   "cell_type": "markdown",
   "id": "8989f834",
   "metadata": {},
   "source": [
    "**2. How does the salary distribution compare across different job experience levels?**"
   ]
  },
  {
   "cell_type": "code",
   "execution_count": 11,
   "id": "a452f63a",
   "metadata": {},
   "outputs": [],
   "source": [
    "import seaborn as sns\n",
    "import matplotlib.pyplot as plt\n",
    "import plotly.express as px"
   ]
  },
  {
   "cell_type": "code",
   "execution_count": 12,
   "id": "6602ff3f",
   "metadata": {},
   "outputs": [
    {
     "data": {
      "text/plain": [
       "Index(['work_year', 'experience_level', 'employment_type', 'job_title',\n",
       "       'salary', 'salary_in_usd', 'employee_residence', 'remote_ratio',\n",
       "       'company_location', 'company_size'],\n",
       "      dtype='object')"
      ]
     },
     "execution_count": 12,
     "metadata": {},
     "output_type": "execute_result"
    }
   ],
   "source": [
    "df.columns"
   ]
  },
  {
   "cell_type": "code",
   "execution_count": 13,
   "id": "cc81c1a1",
   "metadata": {},
   "outputs": [
    {
     "data": {
      "application/vnd.plotly.v1+json": {
       "config": {
        "plotlyServerURL": "https://plot.ly"
       },
       "data": [
        {
         "alignmentgroup": "True",
         "hovertemplate": "Experience Level=%{x}<br>Salary (USD)=%{y}<extra></extra>",
         "legendgroup": "Mid-level/Intermediate",
         "marker": {
          "color": "#ff7f0e"
         },
         "name": "Mid-level/Intermediate",
         "notched": false,
         "offsetgroup": "Mid-level/Intermediate",
         "orientation": "v",
         "showlegend": true,
         "type": "box",
         "x": [
          "Mid-level/Intermediate",
          "Mid-level/Intermediate",
          "Mid-level/Intermediate",
          "Mid-level/Intermediate",
          "Mid-level/Intermediate",
          "Mid-level/Intermediate",
          "Mid-level/Intermediate",
          "Mid-level/Intermediate",
          "Mid-level/Intermediate",
          "Mid-level/Intermediate",
          "Mid-level/Intermediate",
          "Mid-level/Intermediate",
          "Mid-level/Intermediate",
          "Mid-level/Intermediate",
          "Mid-level/Intermediate",
          "Mid-level/Intermediate",
          "Mid-level/Intermediate",
          "Mid-level/Intermediate",
          "Mid-level/Intermediate",
          "Mid-level/Intermediate",
          "Mid-level/Intermediate",
          "Mid-level/Intermediate",
          "Mid-level/Intermediate",
          "Mid-level/Intermediate",
          "Mid-level/Intermediate",
          "Mid-level/Intermediate",
          "Mid-level/Intermediate",
          "Mid-level/Intermediate",
          "Mid-level/Intermediate",
          "Mid-level/Intermediate",
          "Mid-level/Intermediate",
          "Mid-level/Intermediate",
          "Mid-level/Intermediate",
          "Mid-level/Intermediate",
          "Mid-level/Intermediate",
          "Mid-level/Intermediate",
          "Mid-level/Intermediate",
          "Mid-level/Intermediate",
          "Mid-level/Intermediate",
          "Mid-level/Intermediate",
          "Mid-level/Intermediate",
          "Mid-level/Intermediate",
          "Mid-level/Intermediate",
          "Mid-level/Intermediate",
          "Mid-level/Intermediate",
          "Mid-level/Intermediate",
          "Mid-level/Intermediate",
          "Mid-level/Intermediate",
          "Mid-level/Intermediate",
          "Mid-level/Intermediate",
          "Mid-level/Intermediate",
          "Mid-level/Intermediate",
          "Mid-level/Intermediate",
          "Mid-level/Intermediate",
          "Mid-level/Intermediate",
          "Mid-level/Intermediate",
          "Mid-level/Intermediate",
          "Mid-level/Intermediate",
          "Mid-level/Intermediate",
          "Mid-level/Intermediate",
          "Mid-level/Intermediate",
          "Mid-level/Intermediate",
          "Mid-level/Intermediate",
          "Mid-level/Intermediate",
          "Mid-level/Intermediate",
          "Mid-level/Intermediate",
          "Mid-level/Intermediate",
          "Mid-level/Intermediate",
          "Mid-level/Intermediate",
          "Mid-level/Intermediate",
          "Mid-level/Intermediate",
          "Mid-level/Intermediate",
          "Mid-level/Intermediate",
          "Mid-level/Intermediate",
          "Mid-level/Intermediate",
          "Mid-level/Intermediate",
          "Mid-level/Intermediate",
          "Mid-level/Intermediate",
          "Mid-level/Intermediate",
          "Mid-level/Intermediate",
          "Mid-level/Intermediate",
          "Mid-level/Intermediate",
          "Mid-level/Intermediate",
          "Mid-level/Intermediate",
          "Mid-level/Intermediate",
          "Mid-level/Intermediate",
          "Mid-level/Intermediate",
          "Mid-level/Intermediate",
          "Mid-level/Intermediate",
          "Mid-level/Intermediate",
          "Mid-level/Intermediate",
          "Mid-level/Intermediate",
          "Mid-level/Intermediate",
          "Mid-level/Intermediate",
          "Mid-level/Intermediate",
          "Mid-level/Intermediate",
          "Mid-level/Intermediate",
          "Mid-level/Intermediate",
          "Mid-level/Intermediate",
          "Mid-level/Intermediate",
          "Mid-level/Intermediate",
          "Mid-level/Intermediate",
          "Mid-level/Intermediate",
          "Mid-level/Intermediate",
          "Mid-level/Intermediate",
          "Mid-level/Intermediate",
          "Mid-level/Intermediate",
          "Mid-level/Intermediate",
          "Mid-level/Intermediate",
          "Mid-level/Intermediate",
          "Mid-level/Intermediate",
          "Mid-level/Intermediate",
          "Mid-level/Intermediate",
          "Mid-level/Intermediate",
          "Mid-level/Intermediate",
          "Mid-level/Intermediate",
          "Mid-level/Intermediate",
          "Mid-level/Intermediate",
          "Mid-level/Intermediate",
          "Mid-level/Intermediate",
          "Mid-level/Intermediate",
          "Mid-level/Intermediate",
          "Mid-level/Intermediate",
          "Mid-level/Intermediate",
          "Mid-level/Intermediate",
          "Mid-level/Intermediate",
          "Mid-level/Intermediate",
          "Mid-level/Intermediate",
          "Mid-level/Intermediate",
          "Mid-level/Intermediate",
          "Mid-level/Intermediate",
          "Mid-level/Intermediate",
          "Mid-level/Intermediate",
          "Mid-level/Intermediate",
          "Mid-level/Intermediate",
          "Mid-level/Intermediate",
          "Mid-level/Intermediate",
          "Mid-level/Intermediate",
          "Mid-level/Intermediate",
          "Mid-level/Intermediate",
          "Mid-level/Intermediate",
          "Mid-level/Intermediate",
          "Mid-level/Intermediate",
          "Mid-level/Intermediate",
          "Mid-level/Intermediate",
          "Mid-level/Intermediate",
          "Mid-level/Intermediate",
          "Mid-level/Intermediate",
          "Mid-level/Intermediate",
          "Mid-level/Intermediate",
          "Mid-level/Intermediate",
          "Mid-level/Intermediate",
          "Mid-level/Intermediate",
          "Mid-level/Intermediate",
          "Mid-level/Intermediate",
          "Mid-level/Intermediate",
          "Mid-level/Intermediate",
          "Mid-level/Intermediate",
          "Mid-level/Intermediate",
          "Mid-level/Intermediate",
          "Mid-level/Intermediate",
          "Mid-level/Intermediate",
          "Mid-level/Intermediate",
          "Mid-level/Intermediate",
          "Mid-level/Intermediate",
          "Mid-level/Intermediate",
          "Mid-level/Intermediate",
          "Mid-level/Intermediate",
          "Mid-level/Intermediate",
          "Mid-level/Intermediate",
          "Mid-level/Intermediate",
          "Mid-level/Intermediate",
          "Mid-level/Intermediate",
          "Mid-level/Intermediate",
          "Mid-level/Intermediate",
          "Mid-level/Intermediate",
          "Mid-level/Intermediate",
          "Mid-level/Intermediate",
          "Mid-level/Intermediate",
          "Mid-level/Intermediate",
          "Mid-level/Intermediate",
          "Mid-level/Intermediate",
          "Mid-level/Intermediate",
          "Mid-level/Intermediate",
          "Mid-level/Intermediate",
          "Mid-level/Intermediate",
          "Mid-level/Intermediate",
          "Mid-level/Intermediate",
          "Mid-level/Intermediate",
          "Mid-level/Intermediate",
          "Mid-level/Intermediate",
          "Mid-level/Intermediate",
          "Mid-level/Intermediate",
          "Mid-level/Intermediate",
          "Mid-level/Intermediate",
          "Mid-level/Intermediate",
          "Mid-level/Intermediate",
          "Mid-level/Intermediate",
          "Mid-level/Intermediate",
          "Mid-level/Intermediate",
          "Mid-level/Intermediate",
          "Mid-level/Intermediate",
          "Mid-level/Intermediate",
          "Mid-level/Intermediate",
          "Mid-level/Intermediate",
          "Mid-level/Intermediate",
          "Mid-level/Intermediate",
          "Mid-level/Intermediate",
          "Mid-level/Intermediate",
          "Mid-level/Intermediate",
          "Mid-level/Intermediate",
          "Mid-level/Intermediate",
          "Mid-level/Intermediate"
         ],
         "x0": " ",
         "xaxis": "x",
         "y": [
          79833,
          20000,
          35735,
          135000,
          40481,
          87000,
          85000,
          8000,
          56000,
          43331,
          6072,
          98000,
          115000,
          59303,
          450000,
          46759,
          74130,
          103000,
          45760,
          50180,
          106000,
          112872,
          76958,
          105000,
          70139,
          38776,
          118000,
          138350,
          110000,
          130800,
          62726,
          42197,
          100000,
          5409,
          270000,
          140000,
          54238,
          47282,
          28476,
          110000,
          19609,
          89294,
          450000,
          95746,
          75000,
          36259,
          62000,
          73000,
          51519,
          187442,
          45391,
          50000,
          40189,
          200000,
          60000,
          151000,
          9466,
          38400,
          90000,
          63711,
          77364,
          135000,
          82500,
          100000,
          62649,
          90000,
          150000,
          75774,
          119059,
          423000,
          28369,
          150000,
          170000,
          82528,
          2859,
          40038,
          5679,
          22611,
          90734,
          26005,
          12000,
          4000,
          74000,
          18000,
          147000,
          61467,
          37825,
          160000,
          12901,
          20000,
          24823,
          56738,
          66022,
          90734,
          88654,
          46597,
          116914,
          33808,
          56256,
          88654,
          180000,
          110000,
          63810,
          46809,
          80000,
          110000,
          72212,
          12103,
          115000,
          93000,
          200000,
          130000,
          16904,
          25532,
          93150,
          111775,
          28016,
          112000,
          69741,
          69999,
          109000,
          51064,
          130000,
          90000,
          170000,
          150000,
          106260,
          126500,
          65438,
          39263,
          78526,
          52351,
          115500,
          167000,
          58000,
          54957,
          54957,
          124333,
          98158,
          120000,
          87932,
          117789,
          98158,
          58000,
          52351,
          71982,
          45807,
          65949,
          49461,
          78526,
          58894,
          63900,
          160000,
          112300,
          241000,
          159000,
          82900,
          49461,
          39263,
          43966,
          32974,
          87932,
          76940,
          104702,
          91614,
          65949,
          87932,
          43966,
          32974,
          98158,
          78526,
          76940,
          78791,
          120000,
          37236,
          18442,
          31615,
          58255,
          54957,
          135000,
          50000,
          183228,
          91614,
          200000,
          120000,
          100000,
          75000,
          35590,
          153000,
          32974,
          87425,
          75000,
          64849,
          157000,
          70912,
          48000,
          68147,
          122346,
          69336,
          20000,
          135000,
          78000,
          85000,
          75000,
          141300,
          102100,
          206699,
          99100,
          65438,
          45807,
          160000,
          130000,
          200000
         ],
         "y0": " ",
         "yaxis": "y"
        },
        {
         "alignmentgroup": "True",
         "hovertemplate": "Experience Level=%{x}<br>Salary (USD)=%{y}<extra></extra>",
         "legendgroup": "Senior-level/Expert",
         "marker": {
          "color": "#2ca02c"
         },
         "name": "Senior-level/Expert",
         "notched": false,
         "offsetgroup": "Senior-level/Expert",
         "orientation": "v",
         "showlegend": true,
         "type": "box",
         "x": [
          "Senior-level/Expert",
          "Senior-level/Expert",
          "Senior-level/Expert",
          "Senior-level/Expert",
          "Senior-level/Expert",
          "Senior-level/Expert",
          "Senior-level/Expert",
          "Senior-level/Expert",
          "Senior-level/Expert",
          "Senior-level/Expert",
          "Senior-level/Expert",
          "Senior-level/Expert",
          "Senior-level/Expert",
          "Senior-level/Expert",
          "Senior-level/Expert",
          "Senior-level/Expert",
          "Senior-level/Expert",
          "Senior-level/Expert",
          "Senior-level/Expert",
          "Senior-level/Expert",
          "Senior-level/Expert",
          "Senior-level/Expert",
          "Senior-level/Expert",
          "Senior-level/Expert",
          "Senior-level/Expert",
          "Senior-level/Expert",
          "Senior-level/Expert",
          "Senior-level/Expert",
          "Senior-level/Expert",
          "Senior-level/Expert",
          "Senior-level/Expert",
          "Senior-level/Expert",
          "Senior-level/Expert",
          "Senior-level/Expert",
          "Senior-level/Expert",
          "Senior-level/Expert",
          "Senior-level/Expert",
          "Senior-level/Expert",
          "Senior-level/Expert",
          "Senior-level/Expert",
          "Senior-level/Expert",
          "Senior-level/Expert",
          "Senior-level/Expert",
          "Senior-level/Expert",
          "Senior-level/Expert",
          "Senior-level/Expert",
          "Senior-level/Expert",
          "Senior-level/Expert",
          "Senior-level/Expert",
          "Senior-level/Expert",
          "Senior-level/Expert",
          "Senior-level/Expert",
          "Senior-level/Expert",
          "Senior-level/Expert",
          "Senior-level/Expert",
          "Senior-level/Expert",
          "Senior-level/Expert",
          "Senior-level/Expert",
          "Senior-level/Expert",
          "Senior-level/Expert",
          "Senior-level/Expert",
          "Senior-level/Expert",
          "Senior-level/Expert",
          "Senior-level/Expert",
          "Senior-level/Expert",
          "Senior-level/Expert",
          "Senior-level/Expert",
          "Senior-level/Expert",
          "Senior-level/Expert",
          "Senior-level/Expert",
          "Senior-level/Expert",
          "Senior-level/Expert",
          "Senior-level/Expert",
          "Senior-level/Expert",
          "Senior-level/Expert",
          "Senior-level/Expert",
          "Senior-level/Expert",
          "Senior-level/Expert",
          "Senior-level/Expert",
          "Senior-level/Expert",
          "Senior-level/Expert",
          "Senior-level/Expert",
          "Senior-level/Expert",
          "Senior-level/Expert",
          "Senior-level/Expert",
          "Senior-level/Expert",
          "Senior-level/Expert",
          "Senior-level/Expert",
          "Senior-level/Expert",
          "Senior-level/Expert",
          "Senior-level/Expert",
          "Senior-level/Expert",
          "Senior-level/Expert",
          "Senior-level/Expert",
          "Senior-level/Expert",
          "Senior-level/Expert",
          "Senior-level/Expert",
          "Senior-level/Expert",
          "Senior-level/Expert",
          "Senior-level/Expert",
          "Senior-level/Expert",
          "Senior-level/Expert",
          "Senior-level/Expert",
          "Senior-level/Expert",
          "Senior-level/Expert",
          "Senior-level/Expert",
          "Senior-level/Expert",
          "Senior-level/Expert",
          "Senior-level/Expert",
          "Senior-level/Expert",
          "Senior-level/Expert",
          "Senior-level/Expert",
          "Senior-level/Expert",
          "Senior-level/Expert",
          "Senior-level/Expert",
          "Senior-level/Expert",
          "Senior-level/Expert",
          "Senior-level/Expert",
          "Senior-level/Expert",
          "Senior-level/Expert",
          "Senior-level/Expert",
          "Senior-level/Expert",
          "Senior-level/Expert",
          "Senior-level/Expert",
          "Senior-level/Expert",
          "Senior-level/Expert",
          "Senior-level/Expert",
          "Senior-level/Expert",
          "Senior-level/Expert",
          "Senior-level/Expert",
          "Senior-level/Expert",
          "Senior-level/Expert",
          "Senior-level/Expert",
          "Senior-level/Expert",
          "Senior-level/Expert",
          "Senior-level/Expert",
          "Senior-level/Expert",
          "Senior-level/Expert",
          "Senior-level/Expert",
          "Senior-level/Expert",
          "Senior-level/Expert",
          "Senior-level/Expert",
          "Senior-level/Expert",
          "Senior-level/Expert",
          "Senior-level/Expert",
          "Senior-level/Expert",
          "Senior-level/Expert",
          "Senior-level/Expert",
          "Senior-level/Expert",
          "Senior-level/Expert",
          "Senior-level/Expert",
          "Senior-level/Expert",
          "Senior-level/Expert",
          "Senior-level/Expert",
          "Senior-level/Expert",
          "Senior-level/Expert",
          "Senior-level/Expert",
          "Senior-level/Expert",
          "Senior-level/Expert",
          "Senior-level/Expert",
          "Senior-level/Expert",
          "Senior-level/Expert",
          "Senior-level/Expert",
          "Senior-level/Expert",
          "Senior-level/Expert",
          "Senior-level/Expert",
          "Senior-level/Expert",
          "Senior-level/Expert",
          "Senior-level/Expert",
          "Senior-level/Expert",
          "Senior-level/Expert",
          "Senior-level/Expert",
          "Senior-level/Expert",
          "Senior-level/Expert",
          "Senior-level/Expert",
          "Senior-level/Expert",
          "Senior-level/Expert",
          "Senior-level/Expert",
          "Senior-level/Expert",
          "Senior-level/Expert",
          "Senior-level/Expert",
          "Senior-level/Expert",
          "Senior-level/Expert",
          "Senior-level/Expert",
          "Senior-level/Expert",
          "Senior-level/Expert",
          "Senior-level/Expert",
          "Senior-level/Expert",
          "Senior-level/Expert",
          "Senior-level/Expert",
          "Senior-level/Expert",
          "Senior-level/Expert",
          "Senior-level/Expert",
          "Senior-level/Expert",
          "Senior-level/Expert",
          "Senior-level/Expert",
          "Senior-level/Expert",
          "Senior-level/Expert",
          "Senior-level/Expert",
          "Senior-level/Expert",
          "Senior-level/Expert",
          "Senior-level/Expert",
          "Senior-level/Expert",
          "Senior-level/Expert",
          "Senior-level/Expert",
          "Senior-level/Expert",
          "Senior-level/Expert",
          "Senior-level/Expert",
          "Senior-level/Expert",
          "Senior-level/Expert",
          "Senior-level/Expert",
          "Senior-level/Expert",
          "Senior-level/Expert",
          "Senior-level/Expert",
          "Senior-level/Expert",
          "Senior-level/Expert",
          "Senior-level/Expert",
          "Senior-level/Expert",
          "Senior-level/Expert",
          "Senior-level/Expert",
          "Senior-level/Expert",
          "Senior-level/Expert",
          "Senior-level/Expert",
          "Senior-level/Expert",
          "Senior-level/Expert",
          "Senior-level/Expert",
          "Senior-level/Expert",
          "Senior-level/Expert",
          "Senior-level/Expert",
          "Senior-level/Expert",
          "Senior-level/Expert",
          "Senior-level/Expert",
          "Senior-level/Expert",
          "Senior-level/Expert",
          "Senior-level/Expert",
          "Senior-level/Expert",
          "Senior-level/Expert",
          "Senior-level/Expert",
          "Senior-level/Expert",
          "Senior-level/Expert",
          "Senior-level/Expert",
          "Senior-level/Expert",
          "Senior-level/Expert",
          "Senior-level/Expert",
          "Senior-level/Expert",
          "Senior-level/Expert",
          "Senior-level/Expert",
          "Senior-level/Expert",
          "Senior-level/Expert",
          "Senior-level/Expert",
          "Senior-level/Expert",
          "Senior-level/Expert",
          "Senior-level/Expert",
          "Senior-level/Expert",
          "Senior-level/Expert",
          "Senior-level/Expert",
          "Senior-level/Expert",
          "Senior-level/Expert",
          "Senior-level/Expert",
          "Senior-level/Expert",
          "Senior-level/Expert",
          "Senior-level/Expert",
          "Senior-level/Expert",
          "Senior-level/Expert",
          "Senior-level/Expert",
          "Senior-level/Expert",
          "Senior-level/Expert",
          "Senior-level/Expert",
          "Senior-level/Expert",
          "Senior-level/Expert",
          "Senior-level/Expert",
          "Senior-level/Expert",
          "Senior-level/Expert",
          "Senior-level/Expert",
          "Senior-level/Expert",
          "Senior-level/Expert",
          "Senior-level/Expert",
          "Senior-level/Expert",
          "Senior-level/Expert",
          "Senior-level/Expert"
         ],
         "x0": " ",
         "xaxis": "x",
         "y": [
          260000,
          109024,
          150000,
          190000,
          125000,
          114047,
          47899,
          33511,
          117104,
          68428,
          188000,
          60000,
          148261,
          120000,
          412000,
          45618,
          190200,
          91237,
          53192,
          79197,
          170000,
          80000,
          88654,
          276000,
          150000,
          115000,
          150000,
          94564,
          113476,
          103160,
          200000,
          120000,
          40570,
          24000,
          220000,
          240000,
          150000,
          82744,
          153000,
          160000,
          168000,
          144000,
          127221,
          120000,
          165000,
          235000,
          60757,
          174000,
          61896,
          50000,
          76833,
          152000,
          174000,
          96113,
          24342,
          54094,
          195000,
          50000,
          200000,
          165000,
          120000,
          185000,
          140000,
          225000,
          87738,
          135000,
          71786,
          256000,
          200000,
          200000,
          103691,
          165000,
          96282,
          170000,
          99703,
          173762,
          185000,
          63831,
          66265,
          160000,
          18907,
          77684,
          55000,
          20171,
          105000,
          94665,
          102839,
          135000,
          155000,
          120600,
          102100,
          84900,
          136620,
          99360,
          117789,
          104702,
          146000,
          123000,
          99000,
          116000,
          165220,
          120160,
          90320,
          181940,
          132320,
          220110,
          160080,
          180000,
          120000,
          124190,
          170000,
          112900,
          90320,
          112900,
          90320,
          165400,
          132320,
          243900,
          136600,
          109280,
          128875,
          93700,
          156600,
          108800,
          95550,
          113000,
          135000,
          161342,
          137141,
          167000,
          123000,
          78526,
          65438,
          150000,
          211500,
          192400,
          90700,
          130000,
          61300,
          130000,
          61300,
          160000,
          138600,
          136000,
          170000,
          123000,
          189650,
          164996,
          132000,
          165400,
          208775,
          147800,
          136994,
          101570,
          128875,
          93700,
          132320,
          164000,
          155000,
          112900,
          90320,
          145000,
          105400,
          215300,
          158200,
          209100,
          154600,
          115934,
          81666,
          175000,
          183600,
          180000,
          260000,
          60000,
          180000,
          80000,
          100800,
          140400,
          189650,
          164996,
          215300,
          209100,
          154600,
          180000,
          80000,
          105000,
          87932,
          162674,
          144000,
          104890,
          100000,
          140000,
          220000,
          140000,
          185100,
          220000,
          120000,
          65000,
          210000,
          120000,
          230000,
          200000,
          78791,
          100000,
          165000,
          93427,
          62651,
          115000,
          71444,
          152500,
          380000,
          405000,
          177000,
          135000,
          100000,
          90320,
          214000,
          192600,
          266400,
          213120,
          112900,
          155000,
          115934,
          81666,
          130000,
          115000,
          110500,
          130000,
          99050,
          160000,
          205300,
          140400,
          176000,
          144000,
          200100,
          160000,
          145000,
          70500,
          205300,
          140400,
          205300,
          184700,
          175100,
          140250,
          116150,
          54000,
          170000,
          80000,
          140000,
          210000,
          140000,
          100000,
          69000,
          210000,
          140000,
          210000,
          150075,
          100000,
          25000,
          126500,
          106260,
          220110,
          160080,
          105000,
          110925,
          140000,
          99000,
          60000,
          192564,
          144854,
          230000,
          150000,
          150260,
          109280,
          210000,
          170000,
          154000,
          126000,
          129000,
          150000
         ],
         "y0": " ",
         "yaxis": "y"
        },
        {
         "alignmentgroup": "True",
         "hovertemplate": "Experience Level=%{x}<br>Salary (USD)=%{y}<extra></extra>",
         "legendgroup": "Entry-level/Junior",
         "marker": {
          "color": "#1f77b4"
         },
         "name": "Entry-level/Junior",
         "notched": false,
         "offsetgroup": "Entry-level/Junior",
         "orientation": "v",
         "showlegend": true,
         "type": "box",
         "x": [
          "Entry-level/Junior",
          "Entry-level/Junior",
          "Entry-level/Junior",
          "Entry-level/Junior",
          "Entry-level/Junior",
          "Entry-level/Junior",
          "Entry-level/Junior",
          "Entry-level/Junior",
          "Entry-level/Junior",
          "Entry-level/Junior",
          "Entry-level/Junior",
          "Entry-level/Junior",
          "Entry-level/Junior",
          "Entry-level/Junior",
          "Entry-level/Junior",
          "Entry-level/Junior",
          "Entry-level/Junior",
          "Entry-level/Junior",
          "Entry-level/Junior",
          "Entry-level/Junior",
          "Entry-level/Junior",
          "Entry-level/Junior",
          "Entry-level/Junior",
          "Entry-level/Junior",
          "Entry-level/Junior",
          "Entry-level/Junior",
          "Entry-level/Junior",
          "Entry-level/Junior",
          "Entry-level/Junior",
          "Entry-level/Junior",
          "Entry-level/Junior",
          "Entry-level/Junior",
          "Entry-level/Junior",
          "Entry-level/Junior",
          "Entry-level/Junior",
          "Entry-level/Junior",
          "Entry-level/Junior",
          "Entry-level/Junior",
          "Entry-level/Junior",
          "Entry-level/Junior",
          "Entry-level/Junior",
          "Entry-level/Junior",
          "Entry-level/Junior",
          "Entry-level/Junior",
          "Entry-level/Junior",
          "Entry-level/Junior",
          "Entry-level/Junior",
          "Entry-level/Junior",
          "Entry-level/Junior",
          "Entry-level/Junior",
          "Entry-level/Junior",
          "Entry-level/Junior",
          "Entry-level/Junior",
          "Entry-level/Junior",
          "Entry-level/Junior",
          "Entry-level/Junior",
          "Entry-level/Junior",
          "Entry-level/Junior",
          "Entry-level/Junior",
          "Entry-level/Junior",
          "Entry-level/Junior",
          "Entry-level/Junior",
          "Entry-level/Junior",
          "Entry-level/Junior",
          "Entry-level/Junior",
          "Entry-level/Junior",
          "Entry-level/Junior",
          "Entry-level/Junior",
          "Entry-level/Junior",
          "Entry-level/Junior",
          "Entry-level/Junior",
          "Entry-level/Junior",
          "Entry-level/Junior",
          "Entry-level/Junior",
          "Entry-level/Junior",
          "Entry-level/Junior",
          "Entry-level/Junior",
          "Entry-level/Junior",
          "Entry-level/Junior",
          "Entry-level/Junior",
          "Entry-level/Junior",
          "Entry-level/Junior",
          "Entry-level/Junior",
          "Entry-level/Junior",
          "Entry-level/Junior",
          "Entry-level/Junior",
          "Entry-level/Junior",
          "Entry-level/Junior"
         ],
         "x0": " ",
         "xaxis": "x",
         "y": [
          72000,
          51321,
          39916,
          41689,
          5707,
          42000,
          100000,
          70000,
          250000,
          10000,
          138000,
          15966,
          6072,
          91000,
          45896,
          54742,
          21669,
          62726,
          49268,
          105000,
          82528,
          80000,
          59102,
          76833,
          29751,
          12000,
          70000,
          30428,
          12000,
          225000,
          90000,
          50000,
          110037,
          10354,
          20000,
          100000,
          49646,
          100000,
          80000,
          13400,
          125000,
          63831,
          80000,
          55000,
          60000,
          81000,
          21844,
          9272,
          90000,
          5882,
          24823,
          28609,
          16228,
          4000,
          21637,
          18053,
          36643,
          90000,
          28399,
          65013,
          72500,
          76833,
          85000,
          100000,
          58000,
          59102,
          100000,
          52351,
          45807,
          37300,
          21983,
          125000,
          100000,
          18442,
          120000,
          100000,
          31875,
          58035,
          52396,
          40000,
          86703,
          120000,
          150000,
          65000,
          20000,
          10000,
          67000,
          52000
         ],
         "y0": " ",
         "yaxis": "y"
        },
        {
         "alignmentgroup": "True",
         "hovertemplate": "Experience Level=%{x}<br>Salary (USD)=%{y}<extra></extra>",
         "legendgroup": "Executive-level/Director",
         "marker": {
          "color": "#d62728"
         },
         "name": "Executive-level/Director",
         "notched": false,
         "offsetgroup": "Executive-level/Director",
         "orientation": "v",
         "showlegend": true,
         "type": "box",
         "x": [
          "Executive-level/Director",
          "Executive-level/Director",
          "Executive-level/Director",
          "Executive-level/Director",
          "Executive-level/Director",
          "Executive-level/Director",
          "Executive-level/Director",
          "Executive-level/Director",
          "Executive-level/Director",
          "Executive-level/Director",
          "Executive-level/Director",
          "Executive-level/Director",
          "Executive-level/Director",
          "Executive-level/Director",
          "Executive-level/Director",
          "Executive-level/Director",
          "Executive-level/Director",
          "Executive-level/Director",
          "Executive-level/Director",
          "Executive-level/Director",
          "Executive-level/Director",
          "Executive-level/Director",
          "Executive-level/Director",
          "Executive-level/Director",
          "Executive-level/Director",
          "Executive-level/Director"
         ],
         "x0": " ",
         "xaxis": "x",
         "y": [
          325000,
          79833,
          150000,
          235000,
          153667,
          230000,
          85000,
          130026,
          250000,
          69741,
          416000,
          600000,
          141846,
          242000,
          200000,
          130000,
          110000,
          224000,
          167875,
          175000,
          135000,
          118187,
          79039,
          196979,
          324000,
          216000
         ],
         "y0": " ",
         "yaxis": "y"
        }
       ],
       "layout": {
        "boxmode": "overlay",
        "legend": {
         "title": {
          "text": "Experience Level"
         },
         "tracegroupgap": 0
        },
        "template": {
         "data": {
          "bar": [
           {
            "error_x": {
             "color": "#f2f5fa"
            },
            "error_y": {
             "color": "#f2f5fa"
            },
            "marker": {
             "line": {
              "color": "rgb(17,17,17)",
              "width": 0.5
             },
             "pattern": {
              "fillmode": "overlay",
              "size": 10,
              "solidity": 0.2
             }
            },
            "type": "bar"
           }
          ],
          "barpolar": [
           {
            "marker": {
             "line": {
              "color": "rgb(17,17,17)",
              "width": 0.5
             },
             "pattern": {
              "fillmode": "overlay",
              "size": 10,
              "solidity": 0.2
             }
            },
            "type": "barpolar"
           }
          ],
          "carpet": [
           {
            "aaxis": {
             "endlinecolor": "#A2B1C6",
             "gridcolor": "#506784",
             "linecolor": "#506784",
             "minorgridcolor": "#506784",
             "startlinecolor": "#A2B1C6"
            },
            "baxis": {
             "endlinecolor": "#A2B1C6",
             "gridcolor": "#506784",
             "linecolor": "#506784",
             "minorgridcolor": "#506784",
             "startlinecolor": "#A2B1C6"
            },
            "type": "carpet"
           }
          ],
          "choropleth": [
           {
            "colorbar": {
             "outlinewidth": 0,
             "ticks": ""
            },
            "type": "choropleth"
           }
          ],
          "contour": [
           {
            "colorbar": {
             "outlinewidth": 0,
             "ticks": ""
            },
            "colorscale": [
             [
              0,
              "#0d0887"
             ],
             [
              0.1111111111111111,
              "#46039f"
             ],
             [
              0.2222222222222222,
              "#7201a8"
             ],
             [
              0.3333333333333333,
              "#9c179e"
             ],
             [
              0.4444444444444444,
              "#bd3786"
             ],
             [
              0.5555555555555556,
              "#d8576b"
             ],
             [
              0.6666666666666666,
              "#ed7953"
             ],
             [
              0.7777777777777778,
              "#fb9f3a"
             ],
             [
              0.8888888888888888,
              "#fdca26"
             ],
             [
              1,
              "#f0f921"
             ]
            ],
            "type": "contour"
           }
          ],
          "contourcarpet": [
           {
            "colorbar": {
             "outlinewidth": 0,
             "ticks": ""
            },
            "type": "contourcarpet"
           }
          ],
          "heatmap": [
           {
            "colorbar": {
             "outlinewidth": 0,
             "ticks": ""
            },
            "colorscale": [
             [
              0,
              "#0d0887"
             ],
             [
              0.1111111111111111,
              "#46039f"
             ],
             [
              0.2222222222222222,
              "#7201a8"
             ],
             [
              0.3333333333333333,
              "#9c179e"
             ],
             [
              0.4444444444444444,
              "#bd3786"
             ],
             [
              0.5555555555555556,
              "#d8576b"
             ],
             [
              0.6666666666666666,
              "#ed7953"
             ],
             [
              0.7777777777777778,
              "#fb9f3a"
             ],
             [
              0.8888888888888888,
              "#fdca26"
             ],
             [
              1,
              "#f0f921"
             ]
            ],
            "type": "heatmap"
           }
          ],
          "heatmapgl": [
           {
            "colorbar": {
             "outlinewidth": 0,
             "ticks": ""
            },
            "colorscale": [
             [
              0,
              "#0d0887"
             ],
             [
              0.1111111111111111,
              "#46039f"
             ],
             [
              0.2222222222222222,
              "#7201a8"
             ],
             [
              0.3333333333333333,
              "#9c179e"
             ],
             [
              0.4444444444444444,
              "#bd3786"
             ],
             [
              0.5555555555555556,
              "#d8576b"
             ],
             [
              0.6666666666666666,
              "#ed7953"
             ],
             [
              0.7777777777777778,
              "#fb9f3a"
             ],
             [
              0.8888888888888888,
              "#fdca26"
             ],
             [
              1,
              "#f0f921"
             ]
            ],
            "type": "heatmapgl"
           }
          ],
          "histogram": [
           {
            "marker": {
             "pattern": {
              "fillmode": "overlay",
              "size": 10,
              "solidity": 0.2
             }
            },
            "type": "histogram"
           }
          ],
          "histogram2d": [
           {
            "colorbar": {
             "outlinewidth": 0,
             "ticks": ""
            },
            "colorscale": [
             [
              0,
              "#0d0887"
             ],
             [
              0.1111111111111111,
              "#46039f"
             ],
             [
              0.2222222222222222,
              "#7201a8"
             ],
             [
              0.3333333333333333,
              "#9c179e"
             ],
             [
              0.4444444444444444,
              "#bd3786"
             ],
             [
              0.5555555555555556,
              "#d8576b"
             ],
             [
              0.6666666666666666,
              "#ed7953"
             ],
             [
              0.7777777777777778,
              "#fb9f3a"
             ],
             [
              0.8888888888888888,
              "#fdca26"
             ],
             [
              1,
              "#f0f921"
             ]
            ],
            "type": "histogram2d"
           }
          ],
          "histogram2dcontour": [
           {
            "colorbar": {
             "outlinewidth": 0,
             "ticks": ""
            },
            "colorscale": [
             [
              0,
              "#0d0887"
             ],
             [
              0.1111111111111111,
              "#46039f"
             ],
             [
              0.2222222222222222,
              "#7201a8"
             ],
             [
              0.3333333333333333,
              "#9c179e"
             ],
             [
              0.4444444444444444,
              "#bd3786"
             ],
             [
              0.5555555555555556,
              "#d8576b"
             ],
             [
              0.6666666666666666,
              "#ed7953"
             ],
             [
              0.7777777777777778,
              "#fb9f3a"
             ],
             [
              0.8888888888888888,
              "#fdca26"
             ],
             [
              1,
              "#f0f921"
             ]
            ],
            "type": "histogram2dcontour"
           }
          ],
          "mesh3d": [
           {
            "colorbar": {
             "outlinewidth": 0,
             "ticks": ""
            },
            "type": "mesh3d"
           }
          ],
          "parcoords": [
           {
            "line": {
             "colorbar": {
              "outlinewidth": 0,
              "ticks": ""
             }
            },
            "type": "parcoords"
           }
          ],
          "pie": [
           {
            "automargin": true,
            "type": "pie"
           }
          ],
          "scatter": [
           {
            "marker": {
             "line": {
              "color": "#283442"
             }
            },
            "type": "scatter"
           }
          ],
          "scatter3d": [
           {
            "line": {
             "colorbar": {
              "outlinewidth": 0,
              "ticks": ""
             }
            },
            "marker": {
             "colorbar": {
              "outlinewidth": 0,
              "ticks": ""
             }
            },
            "type": "scatter3d"
           }
          ],
          "scattercarpet": [
           {
            "marker": {
             "colorbar": {
              "outlinewidth": 0,
              "ticks": ""
             }
            },
            "type": "scattercarpet"
           }
          ],
          "scattergeo": [
           {
            "marker": {
             "colorbar": {
              "outlinewidth": 0,
              "ticks": ""
             }
            },
            "type": "scattergeo"
           }
          ],
          "scattergl": [
           {
            "marker": {
             "line": {
              "color": "#283442"
             }
            },
            "type": "scattergl"
           }
          ],
          "scattermapbox": [
           {
            "marker": {
             "colorbar": {
              "outlinewidth": 0,
              "ticks": ""
             }
            },
            "type": "scattermapbox"
           }
          ],
          "scatterpolar": [
           {
            "marker": {
             "colorbar": {
              "outlinewidth": 0,
              "ticks": ""
             }
            },
            "type": "scatterpolar"
           }
          ],
          "scatterpolargl": [
           {
            "marker": {
             "colorbar": {
              "outlinewidth": 0,
              "ticks": ""
             }
            },
            "type": "scatterpolargl"
           }
          ],
          "scatterternary": [
           {
            "marker": {
             "colorbar": {
              "outlinewidth": 0,
              "ticks": ""
             }
            },
            "type": "scatterternary"
           }
          ],
          "surface": [
           {
            "colorbar": {
             "outlinewidth": 0,
             "ticks": ""
            },
            "colorscale": [
             [
              0,
              "#0d0887"
             ],
             [
              0.1111111111111111,
              "#46039f"
             ],
             [
              0.2222222222222222,
              "#7201a8"
             ],
             [
              0.3333333333333333,
              "#9c179e"
             ],
             [
              0.4444444444444444,
              "#bd3786"
             ],
             [
              0.5555555555555556,
              "#d8576b"
             ],
             [
              0.6666666666666666,
              "#ed7953"
             ],
             [
              0.7777777777777778,
              "#fb9f3a"
             ],
             [
              0.8888888888888888,
              "#fdca26"
             ],
             [
              1,
              "#f0f921"
             ]
            ],
            "type": "surface"
           }
          ],
          "table": [
           {
            "cells": {
             "fill": {
              "color": "#506784"
             },
             "line": {
              "color": "rgb(17,17,17)"
             }
            },
            "header": {
             "fill": {
              "color": "#2a3f5f"
             },
             "line": {
              "color": "rgb(17,17,17)"
             }
            },
            "type": "table"
           }
          ]
         },
         "layout": {
          "annotationdefaults": {
           "arrowcolor": "#f2f5fa",
           "arrowhead": 0,
           "arrowwidth": 1
          },
          "autotypenumbers": "strict",
          "coloraxis": {
           "colorbar": {
            "outlinewidth": 0,
            "ticks": ""
           }
          },
          "colorscale": {
           "diverging": [
            [
             0,
             "#8e0152"
            ],
            [
             0.1,
             "#c51b7d"
            ],
            [
             0.2,
             "#de77ae"
            ],
            [
             0.3,
             "#f1b6da"
            ],
            [
             0.4,
             "#fde0ef"
            ],
            [
             0.5,
             "#f7f7f7"
            ],
            [
             0.6,
             "#e6f5d0"
            ],
            [
             0.7,
             "#b8e186"
            ],
            [
             0.8,
             "#7fbc41"
            ],
            [
             0.9,
             "#4d9221"
            ],
            [
             1,
             "#276419"
            ]
           ],
           "sequential": [
            [
             0,
             "#0d0887"
            ],
            [
             0.1111111111111111,
             "#46039f"
            ],
            [
             0.2222222222222222,
             "#7201a8"
            ],
            [
             0.3333333333333333,
             "#9c179e"
            ],
            [
             0.4444444444444444,
             "#bd3786"
            ],
            [
             0.5555555555555556,
             "#d8576b"
            ],
            [
             0.6666666666666666,
             "#ed7953"
            ],
            [
             0.7777777777777778,
             "#fb9f3a"
            ],
            [
             0.8888888888888888,
             "#fdca26"
            ],
            [
             1,
             "#f0f921"
            ]
           ],
           "sequentialminus": [
            [
             0,
             "#0d0887"
            ],
            [
             0.1111111111111111,
             "#46039f"
            ],
            [
             0.2222222222222222,
             "#7201a8"
            ],
            [
             0.3333333333333333,
             "#9c179e"
            ],
            [
             0.4444444444444444,
             "#bd3786"
            ],
            [
             0.5555555555555556,
             "#d8576b"
            ],
            [
             0.6666666666666666,
             "#ed7953"
            ],
            [
             0.7777777777777778,
             "#fb9f3a"
            ],
            [
             0.8888888888888888,
             "#fdca26"
            ],
            [
             1,
             "#f0f921"
            ]
           ]
          },
          "colorway": [
           "#636efa",
           "#EF553B",
           "#00cc96",
           "#ab63fa",
           "#FFA15A",
           "#19d3f3",
           "#FF6692",
           "#B6E880",
           "#FF97FF",
           "#FECB52"
          ],
          "font": {
           "color": "#f2f5fa"
          },
          "geo": {
           "bgcolor": "rgb(17,17,17)",
           "lakecolor": "rgb(17,17,17)",
           "landcolor": "rgb(17,17,17)",
           "showlakes": true,
           "showland": true,
           "subunitcolor": "#506784"
          },
          "hoverlabel": {
           "align": "left"
          },
          "hovermode": "closest",
          "mapbox": {
           "style": "dark"
          },
          "paper_bgcolor": "rgb(17,17,17)",
          "plot_bgcolor": "rgb(17,17,17)",
          "polar": {
           "angularaxis": {
            "gridcolor": "#506784",
            "linecolor": "#506784",
            "ticks": ""
           },
           "bgcolor": "rgb(17,17,17)",
           "radialaxis": {
            "gridcolor": "#506784",
            "linecolor": "#506784",
            "ticks": ""
           }
          },
          "scene": {
           "xaxis": {
            "backgroundcolor": "rgb(17,17,17)",
            "gridcolor": "#506784",
            "gridwidth": 2,
            "linecolor": "#506784",
            "showbackground": true,
            "ticks": "",
            "zerolinecolor": "#C8D4E3"
           },
           "yaxis": {
            "backgroundcolor": "rgb(17,17,17)",
            "gridcolor": "#506784",
            "gridwidth": 2,
            "linecolor": "#506784",
            "showbackground": true,
            "ticks": "",
            "zerolinecolor": "#C8D4E3"
           },
           "zaxis": {
            "backgroundcolor": "rgb(17,17,17)",
            "gridcolor": "#506784",
            "gridwidth": 2,
            "linecolor": "#506784",
            "showbackground": true,
            "ticks": "",
            "zerolinecolor": "#C8D4E3"
           }
          },
          "shapedefaults": {
           "line": {
            "color": "#f2f5fa"
           }
          },
          "sliderdefaults": {
           "bgcolor": "#C8D4E3",
           "bordercolor": "rgb(17,17,17)",
           "borderwidth": 1,
           "tickwidth": 0
          },
          "ternary": {
           "aaxis": {
            "gridcolor": "#506784",
            "linecolor": "#506784",
            "ticks": ""
           },
           "baxis": {
            "gridcolor": "#506784",
            "linecolor": "#506784",
            "ticks": ""
           },
           "bgcolor": "rgb(17,17,17)",
           "caxis": {
            "gridcolor": "#506784",
            "linecolor": "#506784",
            "ticks": ""
           }
          },
          "title": {
           "x": 0.05
          },
          "updatemenudefaults": {
           "bgcolor": "#506784",
           "borderwidth": 0
          },
          "xaxis": {
           "automargin": true,
           "gridcolor": "#283442",
           "linecolor": "#506784",
           "ticks": "",
           "title": {
            "standoff": 15
           },
           "zerolinecolor": "#283442",
           "zerolinewidth": 2
          },
          "yaxis": {
           "automargin": true,
           "gridcolor": "#283442",
           "linecolor": "#506784",
           "ticks": "",
           "title": {
            "standoff": 15
           },
           "zerolinecolor": "#283442",
           "zerolinewidth": 2
          }
         }
        },
        "title": {
         "text": "Salary Distribution by Experience Level"
        },
        "xaxis": {
         "anchor": "y",
         "categoryarray": [
          "Mid-level/Intermediate",
          "Senior-level/Expert",
          "Entry-level/Junior",
          "Executive-level/Director"
         ],
         "categoryorder": "array",
         "domain": [
          0,
          1
         ],
         "title": {
          "text": "Experience Level"
         }
        },
        "yaxis": {
         "anchor": "x",
         "domain": [
          0,
          1
         ],
         "title": {
          "text": "Salary (USD)"
         }
        }
       }
      }
     },
     "metadata": {},
     "output_type": "display_data"
    }
   ],
   "source": [
    "df['experience_level'] = df['experience_level'].replace({\n",
    "    'EN': 'Entry-level/Junior',\n",
    "    'MI': 'Mid-level/Intermediate',\n",
    "    'SE': 'Senior-level/Expert',\n",
    "    'EX': 'Executive-level/Director'\n",
    "})\n",
    "\n",
    "ex_level_colors = {\n",
    "    'Entry-level/Junior': '#1f77b4',       # Blue\n",
    "    'Mid-level/Intermediate': '#ff7f0e',  # Orange\n",
    "    'Senior-level/Expert': '#2ca02c',     # Green\n",
    "    'Executive-level/Director': '#d62728' # Red\n",
    "}\n",
    "\n",
    "# Create the boxplot with the custom color palette\n",
    "fig = px.box(\n",
    "    df,\n",
    "    x='experience_level',\n",
    "    y='salary_in_usd',\n",
    "    color='experience_level',\n",
    "    color_discrete_map=ex_level_colors,\n",
    "    title='Salary Distribution by Experience Level',\n",
    "    labels={\n",
    "        'experience_level': 'Experience Level',\n",
    "        'salary_in_usd': 'Salary (USD)'\n",
    "    },\n",
    "    template='plotly_dark'\n",
    ")\n",
    "fig.update_layout(\n",
    "    xaxis_title='Experience Level',\n",
    "    yaxis_title='Salary (USD)'\n",
    ")\n",
    "\n",
    "fig.show()"
   ]
  },
  {
   "cell_type": "markdown",
   "id": "7405a273",
   "metadata": {},
   "source": [
    "This box plot illustrates the distribution of salary across 4 different categories(Entry-level/Junior, Mid-level/Intermediate, Senior-level/Expert, Executive-level/Director). By using box-plot, we can identify each of this category with its range, median, and outliers, providing informations about how salaries differ based on experience level.<br><br>\n",
    "**Key Insights**\n",
    "- This graph provides a clear positive trend between salary and experience level, where salary tend to increase significantly as individual climb up their experience level. This serves as a great insight for those who wants to persue their professional career for a financial benefits. For example in this case, the interquartile range from Junior level to Intermediate level spanning a broader distribution from below $100k to roughly between $100k and $200k. However, a few outliers exceed the upper fence, indicating that some entry-level are likely in high-demand, earning more salary above their peers.\n",
    "\n",
    "- The executive level stands out the most for its median and outlier reaching to the top approximately $600k which is particurlarly useful for professionals aspiring to reaching leadership roles, potentially earning a great amount of salary of reaching the top.\n",
    "\n",
    "- Decision-making for both employees and employers: \n",
    "For employers, this graph helps inform salary structing to attract and retain talents based on their level gap. Same goes for employees, it helps them understand their market value at a different stage of their career.\n",
    "\n",
    "Overall, this visualization provides a general understanding about how each experience level is being categorized in what amount of salary distributed. It enables professionals to make informed decision about how they should structurized their compensation strategies to ensure fairness and competitiveness.\n"
   ]
  },
  {
   "cell_type": "markdown",
   "id": "36b91202",
   "metadata": {},
   "source": [
    "**3. What's the difference in relationship between remote-ratio across the year?**"
   ]
  },
  {
   "cell_type": "code",
   "execution_count": 14,
   "id": "6f0eb225",
   "metadata": {},
   "outputs": [
    {
     "data": {
      "text/plain": [
       "Index(['work_year', 'experience_level', 'employment_type', 'job_title',\n",
       "       'salary', 'salary_in_usd', 'employee_residence', 'remote_ratio',\n",
       "       'company_location', 'company_size'],\n",
       "      dtype='object')"
      ]
     },
     "execution_count": 14,
     "metadata": {},
     "output_type": "execute_result"
    }
   ],
   "source": [
    "df.columns"
   ]
  },
  {
   "cell_type": "code",
   "execution_count": 15,
   "id": "b700fa83",
   "metadata": {},
   "outputs": [
    {
     "data": {
      "application/vnd.plotly.v1+json": {
       "config": {
        "plotlyServerURL": "https://plot.ly"
       },
       "data": [
        {
         "fill": "toself",
         "name": "2020 remote ratio",
         "r": [
          0.21,
          0.29,
          0.5
         ],
         "theta": [
          "No-Remote",
          "Partially-Remote",
          "Fully-Remote"
         ],
         "type": "scatterpolar"
        },
        {
         "fill": "toself",
         "name": "2021 remote ratio",
         "r": [
          0.16,
          0.3,
          0.54
         ],
         "theta": [
          "No-Remote",
          "Partially-Remote",
          "Fully-Remote"
         ],
         "type": "scatterpolar"
        },
        {
         "fill": "toself",
         "name": "2022 remote ratio",
         "r": [
          0.25,
          0.04,
          0.72
         ],
         "theta": [
          "No-Remote",
          "Partially-Remote",
          "Fully-Remote"
         ],
         "type": "scatterpolar"
        }
       ],
       "layout": {
        "legend": {
         "title": {
          "text": "Work Year"
         }
        },
        "polar": {
         "radialaxis": {
          "range": [
           0,
           1
          ],
          "visible": true
         }
        },
        "template": {
         "data": {
          "bar": [
           {
            "error_x": {
             "color": "#f2f5fa"
            },
            "error_y": {
             "color": "#f2f5fa"
            },
            "marker": {
             "line": {
              "color": "rgb(17,17,17)",
              "width": 0.5
             },
             "pattern": {
              "fillmode": "overlay",
              "size": 10,
              "solidity": 0.2
             }
            },
            "type": "bar"
           }
          ],
          "barpolar": [
           {
            "marker": {
             "line": {
              "color": "rgb(17,17,17)",
              "width": 0.5
             },
             "pattern": {
              "fillmode": "overlay",
              "size": 10,
              "solidity": 0.2
             }
            },
            "type": "barpolar"
           }
          ],
          "carpet": [
           {
            "aaxis": {
             "endlinecolor": "#A2B1C6",
             "gridcolor": "#506784",
             "linecolor": "#506784",
             "minorgridcolor": "#506784",
             "startlinecolor": "#A2B1C6"
            },
            "baxis": {
             "endlinecolor": "#A2B1C6",
             "gridcolor": "#506784",
             "linecolor": "#506784",
             "minorgridcolor": "#506784",
             "startlinecolor": "#A2B1C6"
            },
            "type": "carpet"
           }
          ],
          "choropleth": [
           {
            "colorbar": {
             "outlinewidth": 0,
             "ticks": ""
            },
            "type": "choropleth"
           }
          ],
          "contour": [
           {
            "colorbar": {
             "outlinewidth": 0,
             "ticks": ""
            },
            "colorscale": [
             [
              0,
              "#0d0887"
             ],
             [
              0.1111111111111111,
              "#46039f"
             ],
             [
              0.2222222222222222,
              "#7201a8"
             ],
             [
              0.3333333333333333,
              "#9c179e"
             ],
             [
              0.4444444444444444,
              "#bd3786"
             ],
             [
              0.5555555555555556,
              "#d8576b"
             ],
             [
              0.6666666666666666,
              "#ed7953"
             ],
             [
              0.7777777777777778,
              "#fb9f3a"
             ],
             [
              0.8888888888888888,
              "#fdca26"
             ],
             [
              1,
              "#f0f921"
             ]
            ],
            "type": "contour"
           }
          ],
          "contourcarpet": [
           {
            "colorbar": {
             "outlinewidth": 0,
             "ticks": ""
            },
            "type": "contourcarpet"
           }
          ],
          "heatmap": [
           {
            "colorbar": {
             "outlinewidth": 0,
             "ticks": ""
            },
            "colorscale": [
             [
              0,
              "#0d0887"
             ],
             [
              0.1111111111111111,
              "#46039f"
             ],
             [
              0.2222222222222222,
              "#7201a8"
             ],
             [
              0.3333333333333333,
              "#9c179e"
             ],
             [
              0.4444444444444444,
              "#bd3786"
             ],
             [
              0.5555555555555556,
              "#d8576b"
             ],
             [
              0.6666666666666666,
              "#ed7953"
             ],
             [
              0.7777777777777778,
              "#fb9f3a"
             ],
             [
              0.8888888888888888,
              "#fdca26"
             ],
             [
              1,
              "#f0f921"
             ]
            ],
            "type": "heatmap"
           }
          ],
          "heatmapgl": [
           {
            "colorbar": {
             "outlinewidth": 0,
             "ticks": ""
            },
            "colorscale": [
             [
              0,
              "#0d0887"
             ],
             [
              0.1111111111111111,
              "#46039f"
             ],
             [
              0.2222222222222222,
              "#7201a8"
             ],
             [
              0.3333333333333333,
              "#9c179e"
             ],
             [
              0.4444444444444444,
              "#bd3786"
             ],
             [
              0.5555555555555556,
              "#d8576b"
             ],
             [
              0.6666666666666666,
              "#ed7953"
             ],
             [
              0.7777777777777778,
              "#fb9f3a"
             ],
             [
              0.8888888888888888,
              "#fdca26"
             ],
             [
              1,
              "#f0f921"
             ]
            ],
            "type": "heatmapgl"
           }
          ],
          "histogram": [
           {
            "marker": {
             "pattern": {
              "fillmode": "overlay",
              "size": 10,
              "solidity": 0.2
             }
            },
            "type": "histogram"
           }
          ],
          "histogram2d": [
           {
            "colorbar": {
             "outlinewidth": 0,
             "ticks": ""
            },
            "colorscale": [
             [
              0,
              "#0d0887"
             ],
             [
              0.1111111111111111,
              "#46039f"
             ],
             [
              0.2222222222222222,
              "#7201a8"
             ],
             [
              0.3333333333333333,
              "#9c179e"
             ],
             [
              0.4444444444444444,
              "#bd3786"
             ],
             [
              0.5555555555555556,
              "#d8576b"
             ],
             [
              0.6666666666666666,
              "#ed7953"
             ],
             [
              0.7777777777777778,
              "#fb9f3a"
             ],
             [
              0.8888888888888888,
              "#fdca26"
             ],
             [
              1,
              "#f0f921"
             ]
            ],
            "type": "histogram2d"
           }
          ],
          "histogram2dcontour": [
           {
            "colorbar": {
             "outlinewidth": 0,
             "ticks": ""
            },
            "colorscale": [
             [
              0,
              "#0d0887"
             ],
             [
              0.1111111111111111,
              "#46039f"
             ],
             [
              0.2222222222222222,
              "#7201a8"
             ],
             [
              0.3333333333333333,
              "#9c179e"
             ],
             [
              0.4444444444444444,
              "#bd3786"
             ],
             [
              0.5555555555555556,
              "#d8576b"
             ],
             [
              0.6666666666666666,
              "#ed7953"
             ],
             [
              0.7777777777777778,
              "#fb9f3a"
             ],
             [
              0.8888888888888888,
              "#fdca26"
             ],
             [
              1,
              "#f0f921"
             ]
            ],
            "type": "histogram2dcontour"
           }
          ],
          "mesh3d": [
           {
            "colorbar": {
             "outlinewidth": 0,
             "ticks": ""
            },
            "type": "mesh3d"
           }
          ],
          "parcoords": [
           {
            "line": {
             "colorbar": {
              "outlinewidth": 0,
              "ticks": ""
             }
            },
            "type": "parcoords"
           }
          ],
          "pie": [
           {
            "automargin": true,
            "type": "pie"
           }
          ],
          "scatter": [
           {
            "marker": {
             "line": {
              "color": "#283442"
             }
            },
            "type": "scatter"
           }
          ],
          "scatter3d": [
           {
            "line": {
             "colorbar": {
              "outlinewidth": 0,
              "ticks": ""
             }
            },
            "marker": {
             "colorbar": {
              "outlinewidth": 0,
              "ticks": ""
             }
            },
            "type": "scatter3d"
           }
          ],
          "scattercarpet": [
           {
            "marker": {
             "colorbar": {
              "outlinewidth": 0,
              "ticks": ""
             }
            },
            "type": "scattercarpet"
           }
          ],
          "scattergeo": [
           {
            "marker": {
             "colorbar": {
              "outlinewidth": 0,
              "ticks": ""
             }
            },
            "type": "scattergeo"
           }
          ],
          "scattergl": [
           {
            "marker": {
             "line": {
              "color": "#283442"
             }
            },
            "type": "scattergl"
           }
          ],
          "scattermapbox": [
           {
            "marker": {
             "colorbar": {
              "outlinewidth": 0,
              "ticks": ""
             }
            },
            "type": "scattermapbox"
           }
          ],
          "scatterpolar": [
           {
            "marker": {
             "colorbar": {
              "outlinewidth": 0,
              "ticks": ""
             }
            },
            "type": "scatterpolar"
           }
          ],
          "scatterpolargl": [
           {
            "marker": {
             "colorbar": {
              "outlinewidth": 0,
              "ticks": ""
             }
            },
            "type": "scatterpolargl"
           }
          ],
          "scatterternary": [
           {
            "marker": {
             "colorbar": {
              "outlinewidth": 0,
              "ticks": ""
             }
            },
            "type": "scatterternary"
           }
          ],
          "surface": [
           {
            "colorbar": {
             "outlinewidth": 0,
             "ticks": ""
            },
            "colorscale": [
             [
              0,
              "#0d0887"
             ],
             [
              0.1111111111111111,
              "#46039f"
             ],
             [
              0.2222222222222222,
              "#7201a8"
             ],
             [
              0.3333333333333333,
              "#9c179e"
             ],
             [
              0.4444444444444444,
              "#bd3786"
             ],
             [
              0.5555555555555556,
              "#d8576b"
             ],
             [
              0.6666666666666666,
              "#ed7953"
             ],
             [
              0.7777777777777778,
              "#fb9f3a"
             ],
             [
              0.8888888888888888,
              "#fdca26"
             ],
             [
              1,
              "#f0f921"
             ]
            ],
            "type": "surface"
           }
          ],
          "table": [
           {
            "cells": {
             "fill": {
              "color": "#506784"
             },
             "line": {
              "color": "rgb(17,17,17)"
             }
            },
            "header": {
             "fill": {
              "color": "#2a3f5f"
             },
             "line": {
              "color": "rgb(17,17,17)"
             }
            },
            "type": "table"
           }
          ]
         },
         "layout": {
          "annotationdefaults": {
           "arrowcolor": "#f2f5fa",
           "arrowhead": 0,
           "arrowwidth": 1
          },
          "autotypenumbers": "strict",
          "coloraxis": {
           "colorbar": {
            "outlinewidth": 0,
            "ticks": ""
           }
          },
          "colorscale": {
           "diverging": [
            [
             0,
             "#8e0152"
            ],
            [
             0.1,
             "#c51b7d"
            ],
            [
             0.2,
             "#de77ae"
            ],
            [
             0.3,
             "#f1b6da"
            ],
            [
             0.4,
             "#fde0ef"
            ],
            [
             0.5,
             "#f7f7f7"
            ],
            [
             0.6,
             "#e6f5d0"
            ],
            [
             0.7,
             "#b8e186"
            ],
            [
             0.8,
             "#7fbc41"
            ],
            [
             0.9,
             "#4d9221"
            ],
            [
             1,
             "#276419"
            ]
           ],
           "sequential": [
            [
             0,
             "#0d0887"
            ],
            [
             0.1111111111111111,
             "#46039f"
            ],
            [
             0.2222222222222222,
             "#7201a8"
            ],
            [
             0.3333333333333333,
             "#9c179e"
            ],
            [
             0.4444444444444444,
             "#bd3786"
            ],
            [
             0.5555555555555556,
             "#d8576b"
            ],
            [
             0.6666666666666666,
             "#ed7953"
            ],
            [
             0.7777777777777778,
             "#fb9f3a"
            ],
            [
             0.8888888888888888,
             "#fdca26"
            ],
            [
             1,
             "#f0f921"
            ]
           ],
           "sequentialminus": [
            [
             0,
             "#0d0887"
            ],
            [
             0.1111111111111111,
             "#46039f"
            ],
            [
             0.2222222222222222,
             "#7201a8"
            ],
            [
             0.3333333333333333,
             "#9c179e"
            ],
            [
             0.4444444444444444,
             "#bd3786"
            ],
            [
             0.5555555555555556,
             "#d8576b"
            ],
            [
             0.6666666666666666,
             "#ed7953"
            ],
            [
             0.7777777777777778,
             "#fb9f3a"
            ],
            [
             0.8888888888888888,
             "#fdca26"
            ],
            [
             1,
             "#f0f921"
            ]
           ]
          },
          "colorway": [
           "#636efa",
           "#EF553B",
           "#00cc96",
           "#ab63fa",
           "#FFA15A",
           "#19d3f3",
           "#FF6692",
           "#B6E880",
           "#FF97FF",
           "#FECB52"
          ],
          "font": {
           "color": "#f2f5fa"
          },
          "geo": {
           "bgcolor": "rgb(17,17,17)",
           "lakecolor": "rgb(17,17,17)",
           "landcolor": "rgb(17,17,17)",
           "showlakes": true,
           "showland": true,
           "subunitcolor": "#506784"
          },
          "hoverlabel": {
           "align": "left"
          },
          "hovermode": "closest",
          "mapbox": {
           "style": "dark"
          },
          "paper_bgcolor": "rgb(17,17,17)",
          "plot_bgcolor": "rgb(17,17,17)",
          "polar": {
           "angularaxis": {
            "gridcolor": "#506784",
            "linecolor": "#506784",
            "ticks": ""
           },
           "bgcolor": "rgb(17,17,17)",
           "radialaxis": {
            "gridcolor": "#506784",
            "linecolor": "#506784",
            "ticks": ""
           }
          },
          "scene": {
           "xaxis": {
            "backgroundcolor": "rgb(17,17,17)",
            "gridcolor": "#506784",
            "gridwidth": 2,
            "linecolor": "#506784",
            "showbackground": true,
            "ticks": "",
            "zerolinecolor": "#C8D4E3"
           },
           "yaxis": {
            "backgroundcolor": "rgb(17,17,17)",
            "gridcolor": "#506784",
            "gridwidth": 2,
            "linecolor": "#506784",
            "showbackground": true,
            "ticks": "",
            "zerolinecolor": "#C8D4E3"
           },
           "zaxis": {
            "backgroundcolor": "rgb(17,17,17)",
            "gridcolor": "#506784",
            "gridwidth": 2,
            "linecolor": "#506784",
            "showbackground": true,
            "ticks": "",
            "zerolinecolor": "#C8D4E3"
           }
          },
          "shapedefaults": {
           "line": {
            "color": "#f2f5fa"
           }
          },
          "sliderdefaults": {
           "bgcolor": "#C8D4E3",
           "bordercolor": "rgb(17,17,17)",
           "borderwidth": 1,
           "tickwidth": 0
          },
          "ternary": {
           "aaxis": {
            "gridcolor": "#506784",
            "linecolor": "#506784",
            "ticks": ""
           },
           "baxis": {
            "gridcolor": "#506784",
            "linecolor": "#506784",
            "ticks": ""
           },
           "bgcolor": "rgb(17,17,17)",
           "caxis": {
            "gridcolor": "#506784",
            "linecolor": "#506784",
            "ticks": ""
           }
          },
          "title": {
           "x": 0.05
          },
          "updatemenudefaults": {
           "bgcolor": "#506784",
           "borderwidth": 0
          },
          "xaxis": {
           "automargin": true,
           "gridcolor": "#283442",
           "linecolor": "#506784",
           "ticks": "",
           "title": {
            "standoff": 15
           },
           "zerolinecolor": "#283442",
           "zerolinewidth": 2
          },
          "yaxis": {
           "automargin": true,
           "gridcolor": "#283442",
           "linecolor": "#506784",
           "ticks": "",
           "title": {
            "standoff": 15
           },
           "zerolinecolor": "#283442",
           "zerolinewidth": 2
          }
         }
        },
        "title": {
         "text": "Remote Work Ratio by Year"
        }
       }
      }
     },
     "metadata": {},
     "output_type": "display_data"
    }
   ],
   "source": [
    "remote_ratio_year = df.groupby(['work_year','remote_ratio']).size()\n",
    "ratio_2020 = np.round(remote_ratio_year[2020].values/remote_ratio_year[2020].values.sum(),2)\n",
    "ratio_2021 = np.round(remote_ratio_year[2021].values/remote_ratio_year[2021].values.sum(),2)\n",
    "ratio_2022 = np.round(remote_ratio_year[2022].values/remote_ratio_year[2022].values.sum(),2)\n",
    "fig = go.Figure()\n",
    "categories = ['No-Remote', 'Partially-Remote', 'Fully-Remote']\n",
    "fig.add_trace(go.Scatterpolar(\n",
    "    r = ratio_2020, \n",
    "    theta = categories,\n",
    "    fill = 'toself',\n",
    "    name = '2020 remote ratio',\n",
    "    \n",
    "))\n",
    "fig.add_trace(go.Scatterpolar(\n",
    "    r = ratio_2021, \n",
    "    theta = categories,\n",
    "    fill = 'toself',\n",
    "    name = '2021 remote ratio'\n",
    "))\n",
    "fig.add_trace(go.Scatterpolar(\n",
    "    r = ratio_2022, \n",
    "    theta = categories,\n",
    "    fill = 'toself',\n",
    "    name = '2022 remote ratio'\n",
    "))\n",
    "\n",
    "fig.update_layout(\n",
    "    polar=dict(\n",
    "        radialaxis=dict(\n",
    "            visible=True,\n",
    "            range=[0, 1] \n",
    "        )\n",
    "    ),\n",
    "    template='plotly_dark',  # Set the dark theme\n",
    "    title='Remote Work Ratio by Year',\n",
    "    legend_title=\"Work Year\"\n",
    ")\n",
    "fig.show()\n"
   ]
  },
  {
   "cell_type": "markdown",
   "id": "cfa97058",
   "metadata": {},
   "source": [
    "This radar chart shows the distribution of remote work ratio across the year 2020-2022.\n",
    "Basically, it displays how many ratio of works are done categorized into 3 variables (No-Remote, Partially-Remote, Fully-Remote), where each data points along the axes indicate the proportion of work in each category for the respective year. <br><br>\n",
    "**Key Insights**\n",
    "- In 2020, we can see the proportion between No-Remote and Partially Remote are almost equalized, suggesting that there was a balance between fully on-site roles and hybrid roles during that year.\n",
    "\n",
    "- Fully-Remote work, however, has almost double proportion compared to other two categories which might reflect an early shift toward working remotely, possibly influenced by COVID-19 pandamic, which forced many organisation to adopt remote work pratices.\n",
    "\n",
    "- Adoption of Fully-Remote work: There are a continuous shift toward Fully-remote work in the following year 2021 and 2022 which reflects the growing acceptance of remote-work as a viable long-term option.\n",
    "\n",
    "Overall, this radar plot provides an insight of workplace practice evolution. It shows how pandamic accelerated the shift from traditional on-site work to hybrid and fully-remote practices. Consequently, It seems that fully-remote has been effective continuously between 2020-2022 suggesting its acceptance as a sustainable apporach to work in a long run. It also emphasizes for a company to regulate a remote-friendly practice and policies to ensure a long-term success."
   ]
  },
  {
   "cell_type": "markdown",
   "id": "0e14417a",
   "metadata": {},
   "source": [
    "**4. Which company location offer a highest/lowest average salary?**"
   ]
  },
  {
   "cell_type": "code",
   "execution_count": 16,
   "id": "d77b71ed",
   "metadata": {},
   "outputs": [
    {
     "name": "stdout",
     "output_type": "stream",
     "text": [
      "Requirement already satisfied: country-converter in /Users/chhortchhorraseth/anaconda3/envs/tf/lib/python3.11/site-packages (1.3)\n",
      "Requirement already satisfied: pandas>=1.0 in /Users/chhortchhorraseth/anaconda3/envs/tf/lib/python3.11/site-packages (from country-converter) (2.2.2)\n",
      "Requirement already satisfied: numpy>=1.23.2 in /Users/chhortchhorraseth/anaconda3/envs/tf/lib/python3.11/site-packages (from pandas>=1.0->country-converter) (1.23.5)\n",
      "Requirement already satisfied: python-dateutil>=2.8.2 in /Users/chhortchhorraseth/anaconda3/envs/tf/lib/python3.11/site-packages (from pandas>=1.0->country-converter) (2.8.2)\n",
      "Requirement already satisfied: pytz>=2020.1 in /Users/chhortchhorraseth/anaconda3/envs/tf/lib/python3.11/site-packages (from pandas>=1.0->country-converter) (2023.3.post1)\n",
      "Requirement already satisfied: tzdata>=2022.7 in /Users/chhortchhorraseth/anaconda3/envs/tf/lib/python3.11/site-packages (from pandas>=1.0->country-converter) (2023.3)\n",
      "Requirement already satisfied: six>=1.5 in /Users/chhortchhorraseth/anaconda3/envs/tf/lib/python3.11/site-packages (from python-dateutil>=2.8.2->pandas>=1.0->country-converter) (1.16.0)\n",
      "Note: you may need to restart the kernel to use updated packages.\n"
     ]
    }
   ],
   "source": [
    "pip install country-converter"
   ]
  },
  {
   "cell_type": "code",
   "execution_count": 17,
   "id": "9cf6c643",
   "metadata": {},
   "outputs": [],
   "source": [
    "import country_converter as coco"
   ]
  },
  {
   "cell_type": "code",
   "execution_count": 18,
   "id": "355bf52f",
   "metadata": {},
   "outputs": [
    {
     "data": {
      "text/plain": [
       "0      DEU\n",
       "1      JPN\n",
       "2      GBR\n",
       "3      HND\n",
       "4      USA\n",
       "      ... \n",
       "602    USA\n",
       "603    USA\n",
       "604    USA\n",
       "605    USA\n",
       "606    USA\n",
       "Name: company_location, Length: 607, dtype: object"
      ]
     },
     "execution_count": 18,
     "metadata": {},
     "output_type": "execute_result"
    }
   ],
   "source": [
    "df['company_location'] = coco.convert(names=df['company_location'], to='ISO3')\n",
    "df['company_location']"
   ]
  },
  {
   "cell_type": "code",
   "execution_count": 19,
   "id": "e11fae4b",
   "metadata": {},
   "outputs": [],
   "source": [
    "location_salary = df.groupby('company_location')['salary_in_usd'].mean().reset_index()\n",
    "location_salary.columns = ['Location', 'Average Salary']"
   ]
  },
  {
   "cell_type": "code",
   "execution_count": 20,
   "id": "dea90b7b",
   "metadata": {},
   "outputs": [
    {
     "data": {
      "text/plain": [
       "company_location\n",
       "VNM      4000.000000\n",
       "IRN      4000.000000\n",
       "KEN      9272.000000\n",
       "PAK     13333.333333\n",
       "UKR     13400.000000\n",
       "MDA     18000.000000\n",
       "ASM     18053.000000\n",
       "BRA     18602.666667\n",
       "HND     20000.000000\n",
       "TUR     20096.666667\n",
       "COL     21844.000000\n",
       "MLT     28369.000000\n",
       "IND     28581.750000\n",
       "NGA     30000.000000\n",
       "MEX     32123.333333\n",
       "EST     32974.000000\n",
       "HUN     35735.000000\n",
       "ITA     36366.500000\n",
       "MYS     40000.000000\n",
       "CHL     40038.000000\n",
       "LUX     43942.666667\n",
       "HRV     45618.000000\n",
       "PRT     47793.750000\n",
       "CZE     50937.000000\n",
       "GRC     52293.090909\n",
       "ESP     53060.142857\n",
       "DNK     54386.333333\n",
       "NLD     54945.750000\n",
       "ROU     60000.000000\n",
       "SVN     63831.000000\n",
       "FRA     63970.666667\n",
       "CHE     64114.000000\n",
       "POL     66082.500000\n",
       "IRL     71444.000000\n",
       "CHN     71665.500000\n",
       "AUT     72920.750000\n",
       "GBR     81583.042553\n",
       "DEU     81887.214286\n",
       "BEL     85699.000000\n",
       "SGP     89294.000000\n",
       "CAN     99823.733333\n",
       "IRQ    100000.000000\n",
       "DZA    100000.000000\n",
       "ARE    100000.000000\n",
       "AUS    108042.666667\n",
       "JPN    114127.333333\n",
       "ISR    119059.000000\n",
       "NZL    125000.000000\n",
       "USA    144055.261972\n",
       "RUS    157500.000000\n",
       "Name: salary_in_usd, dtype: float64"
      ]
     },
     "execution_count": 20,
     "metadata": {},
     "output_type": "execute_result"
    }
   ],
   "source": [
    "highest_lowest_avg_salary = df.groupby('company_location')['salary_in_usd'].mean().sort_values()\n",
    "highest_lowest_avg_salary"
   ]
  },
  {
   "cell_type": "code",
   "execution_count": 21,
   "id": "414e112d",
   "metadata": {},
   "outputs": [
    {
     "data": {
      "application/vnd.plotly.v1+json": {
       "config": {
        "plotlyServerURL": "https://plot.ly"
       },
       "data": [
        {
         "coloraxis": "coloraxis",
         "geo": "geo",
         "hovertemplate": "<b>%{hovertext}</b><br><br>Location=%{location}<br>Average Salary=%{z}<extra></extra>",
         "hovertext": [
          "ARE",
          "ASM",
          "AUS",
          "AUT",
          "BEL",
          "BRA",
          "CAN",
          "CHE",
          "CHL",
          "CHN",
          "COL",
          "CZE",
          "DEU",
          "DNK",
          "DZA",
          "ESP",
          "EST",
          "FRA",
          "GBR",
          "GRC",
          "HND",
          "HRV",
          "HUN",
          "IND",
          "IRL",
          "IRN",
          "IRQ",
          "ISR",
          "ITA",
          "JPN",
          "KEN",
          "LUX",
          "MDA",
          "MEX",
          "MLT",
          "MYS",
          "NGA",
          "NLD",
          "NZL",
          "PAK",
          "POL",
          "PRT",
          "ROU",
          "RUS",
          "SGP",
          "SVN",
          "TUR",
          "UKR",
          "USA",
          "VNM"
         ],
         "locationmode": "ISO-3",
         "locations": [
          "ARE",
          "ASM",
          "AUS",
          "AUT",
          "BEL",
          "BRA",
          "CAN",
          "CHE",
          "CHL",
          "CHN",
          "COL",
          "CZE",
          "DEU",
          "DNK",
          "DZA",
          "ESP",
          "EST",
          "FRA",
          "GBR",
          "GRC",
          "HND",
          "HRV",
          "HUN",
          "IND",
          "IRL",
          "IRN",
          "IRQ",
          "ISR",
          "ITA",
          "JPN",
          "KEN",
          "LUX",
          "MDA",
          "MEX",
          "MLT",
          "MYS",
          "NGA",
          "NLD",
          "NZL",
          "PAK",
          "POL",
          "PRT",
          "ROU",
          "RUS",
          "SGP",
          "SVN",
          "TUR",
          "UKR",
          "USA",
          "VNM"
         ],
         "name": "",
         "type": "choropleth",
         "z": [
          100000,
          18053,
          108042.66666666667,
          72920.75,
          85699,
          18602.666666666668,
          99823.73333333334,
          64114,
          40038,
          71665.5,
          21844,
          50937,
          81887.21428571429,
          54386.333333333336,
          100000,
          53060.142857142855,
          32974,
          63970.666666666664,
          81583.0425531915,
          52293.09090909091,
          20000,
          45618,
          35735,
          28581.75,
          71444,
          4000,
          100000,
          119059,
          36366.5,
          114127.33333333333,
          9272,
          43942.666666666664,
          18000,
          32123.333333333332,
          28369,
          40000,
          30000,
          54945.75,
          125000,
          13333.333333333334,
          66082.5,
          47793.75,
          60000,
          157500,
          89294,
          63831,
          20096.666666666668,
          13400,
          144055.26197183097,
          4000
         ]
        }
       ],
       "layout": {
        "coloraxis": {
         "colorbar": {
          "title": {
           "text": "Average Salary"
          }
         },
         "colorscale": [
          [
           0,
           "#0d0887"
          ],
          [
           0.1111111111111111,
           "#46039f"
          ],
          [
           0.2222222222222222,
           "#7201a8"
          ],
          [
           0.3333333333333333,
           "#9c179e"
          ],
          [
           0.4444444444444444,
           "#bd3786"
          ],
          [
           0.5555555555555556,
           "#d8576b"
          ],
          [
           0.6666666666666666,
           "#ed7953"
          ],
          [
           0.7777777777777778,
           "#fb9f3a"
          ],
          [
           0.8888888888888888,
           "#fdca26"
          ],
          [
           1,
           "#f0f921"
          ]
         ]
        },
        "geo": {
         "center": {},
         "domain": {
          "x": [
           0,
           1
          ],
          "y": [
           0,
           1
          ]
         }
        },
        "legend": {
         "tracegroupgap": 0
        },
        "template": {
         "data": {
          "bar": [
           {
            "error_x": {
             "color": "#f2f5fa"
            },
            "error_y": {
             "color": "#f2f5fa"
            },
            "marker": {
             "line": {
              "color": "rgb(17,17,17)",
              "width": 0.5
             },
             "pattern": {
              "fillmode": "overlay",
              "size": 10,
              "solidity": 0.2
             }
            },
            "type": "bar"
           }
          ],
          "barpolar": [
           {
            "marker": {
             "line": {
              "color": "rgb(17,17,17)",
              "width": 0.5
             },
             "pattern": {
              "fillmode": "overlay",
              "size": 10,
              "solidity": 0.2
             }
            },
            "type": "barpolar"
           }
          ],
          "carpet": [
           {
            "aaxis": {
             "endlinecolor": "#A2B1C6",
             "gridcolor": "#506784",
             "linecolor": "#506784",
             "minorgridcolor": "#506784",
             "startlinecolor": "#A2B1C6"
            },
            "baxis": {
             "endlinecolor": "#A2B1C6",
             "gridcolor": "#506784",
             "linecolor": "#506784",
             "minorgridcolor": "#506784",
             "startlinecolor": "#A2B1C6"
            },
            "type": "carpet"
           }
          ],
          "choropleth": [
           {
            "colorbar": {
             "outlinewidth": 0,
             "ticks": ""
            },
            "type": "choropleth"
           }
          ],
          "contour": [
           {
            "colorbar": {
             "outlinewidth": 0,
             "ticks": ""
            },
            "colorscale": [
             [
              0,
              "#0d0887"
             ],
             [
              0.1111111111111111,
              "#46039f"
             ],
             [
              0.2222222222222222,
              "#7201a8"
             ],
             [
              0.3333333333333333,
              "#9c179e"
             ],
             [
              0.4444444444444444,
              "#bd3786"
             ],
             [
              0.5555555555555556,
              "#d8576b"
             ],
             [
              0.6666666666666666,
              "#ed7953"
             ],
             [
              0.7777777777777778,
              "#fb9f3a"
             ],
             [
              0.8888888888888888,
              "#fdca26"
             ],
             [
              1,
              "#f0f921"
             ]
            ],
            "type": "contour"
           }
          ],
          "contourcarpet": [
           {
            "colorbar": {
             "outlinewidth": 0,
             "ticks": ""
            },
            "type": "contourcarpet"
           }
          ],
          "heatmap": [
           {
            "colorbar": {
             "outlinewidth": 0,
             "ticks": ""
            },
            "colorscale": [
             [
              0,
              "#0d0887"
             ],
             [
              0.1111111111111111,
              "#46039f"
             ],
             [
              0.2222222222222222,
              "#7201a8"
             ],
             [
              0.3333333333333333,
              "#9c179e"
             ],
             [
              0.4444444444444444,
              "#bd3786"
             ],
             [
              0.5555555555555556,
              "#d8576b"
             ],
             [
              0.6666666666666666,
              "#ed7953"
             ],
             [
              0.7777777777777778,
              "#fb9f3a"
             ],
             [
              0.8888888888888888,
              "#fdca26"
             ],
             [
              1,
              "#f0f921"
             ]
            ],
            "type": "heatmap"
           }
          ],
          "heatmapgl": [
           {
            "colorbar": {
             "outlinewidth": 0,
             "ticks": ""
            },
            "colorscale": [
             [
              0,
              "#0d0887"
             ],
             [
              0.1111111111111111,
              "#46039f"
             ],
             [
              0.2222222222222222,
              "#7201a8"
             ],
             [
              0.3333333333333333,
              "#9c179e"
             ],
             [
              0.4444444444444444,
              "#bd3786"
             ],
             [
              0.5555555555555556,
              "#d8576b"
             ],
             [
              0.6666666666666666,
              "#ed7953"
             ],
             [
              0.7777777777777778,
              "#fb9f3a"
             ],
             [
              0.8888888888888888,
              "#fdca26"
             ],
             [
              1,
              "#f0f921"
             ]
            ],
            "type": "heatmapgl"
           }
          ],
          "histogram": [
           {
            "marker": {
             "pattern": {
              "fillmode": "overlay",
              "size": 10,
              "solidity": 0.2
             }
            },
            "type": "histogram"
           }
          ],
          "histogram2d": [
           {
            "colorbar": {
             "outlinewidth": 0,
             "ticks": ""
            },
            "colorscale": [
             [
              0,
              "#0d0887"
             ],
             [
              0.1111111111111111,
              "#46039f"
             ],
             [
              0.2222222222222222,
              "#7201a8"
             ],
             [
              0.3333333333333333,
              "#9c179e"
             ],
             [
              0.4444444444444444,
              "#bd3786"
             ],
             [
              0.5555555555555556,
              "#d8576b"
             ],
             [
              0.6666666666666666,
              "#ed7953"
             ],
             [
              0.7777777777777778,
              "#fb9f3a"
             ],
             [
              0.8888888888888888,
              "#fdca26"
             ],
             [
              1,
              "#f0f921"
             ]
            ],
            "type": "histogram2d"
           }
          ],
          "histogram2dcontour": [
           {
            "colorbar": {
             "outlinewidth": 0,
             "ticks": ""
            },
            "colorscale": [
             [
              0,
              "#0d0887"
             ],
             [
              0.1111111111111111,
              "#46039f"
             ],
             [
              0.2222222222222222,
              "#7201a8"
             ],
             [
              0.3333333333333333,
              "#9c179e"
             ],
             [
              0.4444444444444444,
              "#bd3786"
             ],
             [
              0.5555555555555556,
              "#d8576b"
             ],
             [
              0.6666666666666666,
              "#ed7953"
             ],
             [
              0.7777777777777778,
              "#fb9f3a"
             ],
             [
              0.8888888888888888,
              "#fdca26"
             ],
             [
              1,
              "#f0f921"
             ]
            ],
            "type": "histogram2dcontour"
           }
          ],
          "mesh3d": [
           {
            "colorbar": {
             "outlinewidth": 0,
             "ticks": ""
            },
            "type": "mesh3d"
           }
          ],
          "parcoords": [
           {
            "line": {
             "colorbar": {
              "outlinewidth": 0,
              "ticks": ""
             }
            },
            "type": "parcoords"
           }
          ],
          "pie": [
           {
            "automargin": true,
            "type": "pie"
           }
          ],
          "scatter": [
           {
            "marker": {
             "line": {
              "color": "#283442"
             }
            },
            "type": "scatter"
           }
          ],
          "scatter3d": [
           {
            "line": {
             "colorbar": {
              "outlinewidth": 0,
              "ticks": ""
             }
            },
            "marker": {
             "colorbar": {
              "outlinewidth": 0,
              "ticks": ""
             }
            },
            "type": "scatter3d"
           }
          ],
          "scattercarpet": [
           {
            "marker": {
             "colorbar": {
              "outlinewidth": 0,
              "ticks": ""
             }
            },
            "type": "scattercarpet"
           }
          ],
          "scattergeo": [
           {
            "marker": {
             "colorbar": {
              "outlinewidth": 0,
              "ticks": ""
             }
            },
            "type": "scattergeo"
           }
          ],
          "scattergl": [
           {
            "marker": {
             "line": {
              "color": "#283442"
             }
            },
            "type": "scattergl"
           }
          ],
          "scattermapbox": [
           {
            "marker": {
             "colorbar": {
              "outlinewidth": 0,
              "ticks": ""
             }
            },
            "type": "scattermapbox"
           }
          ],
          "scatterpolar": [
           {
            "marker": {
             "colorbar": {
              "outlinewidth": 0,
              "ticks": ""
             }
            },
            "type": "scatterpolar"
           }
          ],
          "scatterpolargl": [
           {
            "marker": {
             "colorbar": {
              "outlinewidth": 0,
              "ticks": ""
             }
            },
            "type": "scatterpolargl"
           }
          ],
          "scatterternary": [
           {
            "marker": {
             "colorbar": {
              "outlinewidth": 0,
              "ticks": ""
             }
            },
            "type": "scatterternary"
           }
          ],
          "surface": [
           {
            "colorbar": {
             "outlinewidth": 0,
             "ticks": ""
            },
            "colorscale": [
             [
              0,
              "#0d0887"
             ],
             [
              0.1111111111111111,
              "#46039f"
             ],
             [
              0.2222222222222222,
              "#7201a8"
             ],
             [
              0.3333333333333333,
              "#9c179e"
             ],
             [
              0.4444444444444444,
              "#bd3786"
             ],
             [
              0.5555555555555556,
              "#d8576b"
             ],
             [
              0.6666666666666666,
              "#ed7953"
             ],
             [
              0.7777777777777778,
              "#fb9f3a"
             ],
             [
              0.8888888888888888,
              "#fdca26"
             ],
             [
              1,
              "#f0f921"
             ]
            ],
            "type": "surface"
           }
          ],
          "table": [
           {
            "cells": {
             "fill": {
              "color": "#506784"
             },
             "line": {
              "color": "rgb(17,17,17)"
             }
            },
            "header": {
             "fill": {
              "color": "#2a3f5f"
             },
             "line": {
              "color": "rgb(17,17,17)"
             }
            },
            "type": "table"
           }
          ]
         },
         "layout": {
          "annotationdefaults": {
           "arrowcolor": "#f2f5fa",
           "arrowhead": 0,
           "arrowwidth": 1
          },
          "autotypenumbers": "strict",
          "coloraxis": {
           "colorbar": {
            "outlinewidth": 0,
            "ticks": ""
           }
          },
          "colorscale": {
           "diverging": [
            [
             0,
             "#8e0152"
            ],
            [
             0.1,
             "#c51b7d"
            ],
            [
             0.2,
             "#de77ae"
            ],
            [
             0.3,
             "#f1b6da"
            ],
            [
             0.4,
             "#fde0ef"
            ],
            [
             0.5,
             "#f7f7f7"
            ],
            [
             0.6,
             "#e6f5d0"
            ],
            [
             0.7,
             "#b8e186"
            ],
            [
             0.8,
             "#7fbc41"
            ],
            [
             0.9,
             "#4d9221"
            ],
            [
             1,
             "#276419"
            ]
           ],
           "sequential": [
            [
             0,
             "#0d0887"
            ],
            [
             0.1111111111111111,
             "#46039f"
            ],
            [
             0.2222222222222222,
             "#7201a8"
            ],
            [
             0.3333333333333333,
             "#9c179e"
            ],
            [
             0.4444444444444444,
             "#bd3786"
            ],
            [
             0.5555555555555556,
             "#d8576b"
            ],
            [
             0.6666666666666666,
             "#ed7953"
            ],
            [
             0.7777777777777778,
             "#fb9f3a"
            ],
            [
             0.8888888888888888,
             "#fdca26"
            ],
            [
             1,
             "#f0f921"
            ]
           ],
           "sequentialminus": [
            [
             0,
             "#0d0887"
            ],
            [
             0.1111111111111111,
             "#46039f"
            ],
            [
             0.2222222222222222,
             "#7201a8"
            ],
            [
             0.3333333333333333,
             "#9c179e"
            ],
            [
             0.4444444444444444,
             "#bd3786"
            ],
            [
             0.5555555555555556,
             "#d8576b"
            ],
            [
             0.6666666666666666,
             "#ed7953"
            ],
            [
             0.7777777777777778,
             "#fb9f3a"
            ],
            [
             0.8888888888888888,
             "#fdca26"
            ],
            [
             1,
             "#f0f921"
            ]
           ]
          },
          "colorway": [
           "#636efa",
           "#EF553B",
           "#00cc96",
           "#ab63fa",
           "#FFA15A",
           "#19d3f3",
           "#FF6692",
           "#B6E880",
           "#FF97FF",
           "#FECB52"
          ],
          "font": {
           "color": "#f2f5fa"
          },
          "geo": {
           "bgcolor": "rgb(17,17,17)",
           "lakecolor": "rgb(17,17,17)",
           "landcolor": "rgb(17,17,17)",
           "showlakes": true,
           "showland": true,
           "subunitcolor": "#506784"
          },
          "hoverlabel": {
           "align": "left"
          },
          "hovermode": "closest",
          "mapbox": {
           "style": "dark"
          },
          "paper_bgcolor": "rgb(17,17,17)",
          "plot_bgcolor": "rgb(17,17,17)",
          "polar": {
           "angularaxis": {
            "gridcolor": "#506784",
            "linecolor": "#506784",
            "ticks": ""
           },
           "bgcolor": "rgb(17,17,17)",
           "radialaxis": {
            "gridcolor": "#506784",
            "linecolor": "#506784",
            "ticks": ""
           }
          },
          "scene": {
           "xaxis": {
            "backgroundcolor": "rgb(17,17,17)",
            "gridcolor": "#506784",
            "gridwidth": 2,
            "linecolor": "#506784",
            "showbackground": true,
            "ticks": "",
            "zerolinecolor": "#C8D4E3"
           },
           "yaxis": {
            "backgroundcolor": "rgb(17,17,17)",
            "gridcolor": "#506784",
            "gridwidth": 2,
            "linecolor": "#506784",
            "showbackground": true,
            "ticks": "",
            "zerolinecolor": "#C8D4E3"
           },
           "zaxis": {
            "backgroundcolor": "rgb(17,17,17)",
            "gridcolor": "#506784",
            "gridwidth": 2,
            "linecolor": "#506784",
            "showbackground": true,
            "ticks": "",
            "zerolinecolor": "#C8D4E3"
           }
          },
          "shapedefaults": {
           "line": {
            "color": "#f2f5fa"
           }
          },
          "sliderdefaults": {
           "bgcolor": "#C8D4E3",
           "bordercolor": "rgb(17,17,17)",
           "borderwidth": 1,
           "tickwidth": 0
          },
          "ternary": {
           "aaxis": {
            "gridcolor": "#506784",
            "linecolor": "#506784",
            "ticks": ""
           },
           "baxis": {
            "gridcolor": "#506784",
            "linecolor": "#506784",
            "ticks": ""
           },
           "bgcolor": "rgb(17,17,17)",
           "caxis": {
            "gridcolor": "#506784",
            "linecolor": "#506784",
            "ticks": ""
           }
          },
          "title": {
           "x": 0.05
          },
          "updatemenudefaults": {
           "bgcolor": "#506784",
           "borderwidth": 0
          },
          "xaxis": {
           "automargin": true,
           "gridcolor": "#283442",
           "linecolor": "#506784",
           "ticks": "",
           "title": {
            "standoff": 15
           },
           "zerolinecolor": "#283442",
           "zerolinewidth": 2
          },
          "yaxis": {
           "automargin": true,
           "gridcolor": "#283442",
           "linecolor": "#506784",
           "ticks": "",
           "title": {
            "standoff": 15
           },
           "zerolinecolor": "#283442",
           "zerolinewidth": 2
          }
         }
        },
        "title": {
         "text": "Average Salary by Company Location"
        }
       }
      }
     },
     "metadata": {},
     "output_type": "display_data"
    }
   ],
   "source": [
    "fig = px.choropleth(\n",
    "    location_salary,\n",
    "    locations='Location',  \n",
    "    locationmode='ISO-3',  \n",
    "    color='Average Salary',  \n",
    "    hover_name='Location',  \n",
    "    title='Average Salary by Company Location',\n",
    "    color_continuous_scale=px.colors.sequential.Plasma,\n",
    "    template='plotly_dark'\n",
    ")\n",
    "\n",
    "fig.show()"
   ]
  },
  {
   "cell_type": "markdown",
   "id": "8527342d",
   "metadata": {},
   "source": [
    "This map visualize the average salary by company location, using average salary as a color parameter determine the range of salary based on color. Brighter yellow signify the highest average salaries (150k), whereas darker blue indicate lower average salaries(50k).<br><br>\n",
    "**Key Insights**\n",
    "This chart specifically illustrates different values (average salary) across geographic regions\n",
    "\n",
    "- **High Salary Region:** Russia stands out with a brigthest yellow, indicating the highest average salaries. United State & New Zealand also display relatively high salaries, which could indicate a strong demand for skilled or professionals individual with a high demanding role.\n",
    "\n",
    "- **Low Salary Region:** Vietnam and Iran shows the darkest blue, suggesting lower average salaries compared to other regions. This could be due to various factors such as economic conditions, industry maturity, and cost of living."
   ]
  },
  {
   "cell_type": "markdown",
   "id": "68cef63b",
   "metadata": {},
   "source": [
    "**5. What is the distribution of salaries across different job titles over the years?**"
   ]
  },
  {
   "cell_type": "code",
   "execution_count": 22,
   "id": "ff00cdd9",
   "metadata": {},
   "outputs": [
    {
     "data": {
      "application/vnd.plotly.v1+json": {
       "config": {
        "plotlyServerURL": "https://plot.ly"
       },
       "data": [
        {
         "hovertemplate": "Job Title=AI Scientist<br>Year=%{x}<br>Average Salary (USD)=%{y}<extra></extra>",
         "legendgroup": "AI Scientist",
         "line": {
          "color": "#636efa",
          "dash": "solid"
         },
         "marker": {
          "symbol": "circle"
         },
         "mode": "lines+markers",
         "name": "AI Scientist",
         "orientation": "v",
         "showlegend": true,
         "type": "scatter",
         "x": [
          2020,
          2021,
          2022
         ],
         "xaxis": "x",
         "y": [
          45896,
          24263.25,
          160000
         ],
         "yaxis": "y"
        },
        {
         "hovertemplate": "Job Title=BI Data Analyst<br>Year=%{x}<br>Average Salary (USD)=%{y}<extra></extra>",
         "legendgroup": "BI Data Analyst",
         "line": {
          "color": "#EF553B",
          "dash": "solid"
         },
         "marker": {
          "symbol": "circle"
         },
         "mode": "lines+markers",
         "name": "BI Data Analyst",
         "orientation": "v",
         "showlegend": true,
         "type": "scatter",
         "x": [
          2020,
          2021
         ],
         "xaxis": "x",
         "y": [
          98000,
          70106.2
         ],
         "yaxis": "y"
        },
        {
         "hovertemplate": "Job Title=Big Data Engineer<br>Year=%{x}<br>Average Salary (USD)=%{y}<extra></extra>",
         "legendgroup": "Big Data Engineer",
         "line": {
          "color": "#00cc96",
          "dash": "solid"
         },
         "marker": {
          "symbol": "circle"
         },
         "mode": "lines+markers",
         "name": "Big Data Engineer",
         "orientation": "v",
         "showlegend": true,
         "type": "scatter",
         "x": [
          2020,
          2021
         ],
         "xaxis": "x",
         "y": [
          97690.33333333333,
          24544.2
         ],
         "yaxis": "y"
        },
        {
         "hovertemplate": "Job Title=Business Data Analyst<br>Year=%{x}<br>Average Salary (USD)=%{y}<extra></extra>",
         "legendgroup": "Business Data Analyst",
         "line": {
          "color": "#ab63fa",
          "dash": "solid"
         },
         "marker": {
          "symbol": "circle"
         },
         "mode": "lines+markers",
         "name": "Business Data Analyst",
         "orientation": "v",
         "showlegend": true,
         "type": "scatter",
         "x": [
          2020,
          2021,
          2022
         ],
         "xaxis": "x",
         "y": [
          117500,
          59102,
          44677
         ],
         "yaxis": "y"
        },
        {
         "hovertemplate": "Job Title=Computer Vision Engineer<br>Year=%{x}<br>Average Salary (USD)=%{y}<extra></extra>",
         "legendgroup": "Computer Vision Engineer",
         "line": {
          "color": "#FFA15A",
          "dash": "solid"
         },
         "marker": {
          "symbol": "circle"
         },
         "mode": "lines+markers",
         "name": "Computer Vision Engineer",
         "orientation": "v",
         "showlegend": true,
         "type": "scatter",
         "x": [
          2020,
          2021,
          2022
         ],
         "xaxis": "x",
         "y": [
          60000,
          23838.666666666668,
          67500
         ],
         "yaxis": "y"
        },
        {
         "hovertemplate": "Job Title=Data Analyst<br>Year=%{x}<br>Average Salary (USD)=%{y}<extra></extra>",
         "legendgroup": "Data Analyst",
         "line": {
          "color": "#19d3f3",
          "dash": "solid"
         },
         "marker": {
          "symbol": "circle"
         },
         "mode": "lines+markers",
         "name": "Data Analyst",
         "orientation": "v",
         "showlegend": true,
         "type": "scatter",
         "x": [
          2020,
          2021,
          2022
         ],
         "xaxis": "x",
         "y": [
          45547.28571428572,
          79505.41176470589,
          100550.7397260274
         ],
         "yaxis": "y"
        },
        {
         "hovertemplate": "Job Title=Data Engineer<br>Year=%{x}<br>Average Salary (USD)=%{y}<extra></extra>",
         "legendgroup": "Data Engineer",
         "line": {
          "color": "#FF6692",
          "dash": "solid"
         },
         "marker": {
          "symbol": "circle"
         },
         "mode": "lines+markers",
         "name": "Data Engineer",
         "orientation": "v",
         "showlegend": true,
         "type": "scatter",
         "x": [
          2020,
          2021,
          2022
         ],
         "xaxis": "x",
         "y": [
          88162,
          83202.53125,
          126375.69662921349
         ],
         "yaxis": "y"
        },
        {
         "hovertemplate": "Job Title=Data Engineering Manager<br>Year=%{x}<br>Average Salary (USD)=%{y}<extra></extra>",
         "legendgroup": "Data Engineering Manager",
         "line": {
          "color": "#B6E880",
          "dash": "solid"
         },
         "marker": {
          "symbol": "circle"
         },
         "mode": "lines+markers",
         "name": "Data Engineering Manager",
         "orientation": "v",
         "showlegend": true,
         "type": "scatter",
         "x": [
          2020,
          2021
         ],
         "xaxis": "x",
         "y": [
          69568,
          159000
         ],
         "yaxis": "y"
        },
        {
         "hovertemplate": "Job Title=Data Science Consultant<br>Year=%{x}<br>Average Salary (USD)=%{y}<extra></extra>",
         "legendgroup": "Data Science Consultant",
         "line": {
          "color": "#FF97FF",
          "dash": "solid"
         },
         "marker": {
          "symbol": "circle"
         },
         "mode": "lines+markers",
         "name": "Data Science Consultant",
         "orientation": "v",
         "showlegend": true,
         "type": "scatter",
         "x": [
          2020,
          2021
         ],
         "xaxis": "x",
         "y": [
          54353.5,
          75447.6
         ],
         "yaxis": "y"
        },
        {
         "hovertemplate": "Job Title=Data Science Manager<br>Year=%{x}<br>Average Salary (USD)=%{y}<extra></extra>",
         "legendgroup": "Data Science Manager",
         "line": {
          "color": "#FECB52",
          "dash": "solid"
         },
         "marker": {
          "symbol": "circle"
         },
         "mode": "lines+markers",
         "name": "Data Science Manager",
         "orientation": "v",
         "showlegend": true,
         "type": "scatter",
         "x": [
          2020,
          2021,
          2022
         ],
         "xaxis": "x",
         "y": [
          190200,
          143126.5,
          170196.6
         ],
         "yaxis": "y"
        },
        {
         "hovertemplate": "Job Title=Data Scientist<br>Year=%{x}<br>Average Salary (USD)=%{y}<extra></extra>",
         "legendgroup": "Data Scientist",
         "line": {
          "color": "#636efa",
          "dash": "solid"
         },
         "marker": {
          "symbol": "circle"
         },
         "mode": "lines+markers",
         "name": "Data Scientist",
         "orientation": "v",
         "showlegend": true,
         "type": "scatter",
         "x": [
          2020,
          2021,
          2022
         ],
         "xaxis": "x",
         "y": [
          85970.52380952382,
          70671.73333333334,
          136172.0909090909
         ],
         "yaxis": "y"
        },
        {
         "hovertemplate": "Job Title=Director of Data Science<br>Year=%{x}<br>Average Salary (USD)=%{y}<extra></extra>",
         "legendgroup": "Director of Data Science",
         "line": {
          "color": "#EF553B",
          "dash": "solid"
         },
         "marker": {
          "symbol": "circle"
         },
         "mode": "lines+markers",
         "name": "Director of Data Science",
         "orientation": "v",
         "showlegend": true,
         "type": "scatter",
         "x": [
          2020,
          2021,
          2022
         ],
         "xaxis": "x",
         "y": [
          325000,
          168707.8,
          196979
         ],
         "yaxis": "y"
        },
        {
         "hovertemplate": "Job Title=Lead Data Analyst<br>Year=%{x}<br>Average Salary (USD)=%{y}<extra></extra>",
         "legendgroup": "Lead Data Analyst",
         "line": {
          "color": "#00cc96",
          "dash": "solid"
         },
         "marker": {
          "symbol": "circle"
         },
         "mode": "lines+markers",
         "name": "Lead Data Analyst",
         "orientation": "v",
         "showlegend": true,
         "type": "scatter",
         "x": [
          2020,
          2021
         ],
         "xaxis": "x",
         "y": [
          87000,
          94804.5
         ],
         "yaxis": "y"
        },
        {
         "hovertemplate": "Job Title=Lead Data Engineer<br>Year=%{x}<br>Average Salary (USD)=%{y}<extra></extra>",
         "legendgroup": "Lead Data Engineer",
         "line": {
          "color": "#ab63fa",
          "dash": "solid"
         },
         "marker": {
          "symbol": "circle"
         },
         "mode": "lines+markers",
         "name": "Lead Data Engineer",
         "orientation": "v",
         "showlegend": true,
         "type": "scatter",
         "x": [
          2020,
          2021,
          2022
         ],
         "xaxis": "x",
         "y": [
          90500,
          179720,
          118187
         ],
         "yaxis": "y"
        },
        {
         "hovertemplate": "Job Title=Lead Data Scientist<br>Year=%{x}<br>Average Salary (USD)=%{y}<extra></extra>",
         "legendgroup": "Lead Data Scientist",
         "line": {
          "color": "#FFA15A",
          "dash": "solid"
         },
         "marker": {
          "symbol": "circle"
         },
         "mode": "lines+markers",
         "name": "Lead Data Scientist",
         "orientation": "v",
         "showlegend": true,
         "type": "scatter",
         "x": [
          2020,
          2021
         ],
         "xaxis": "x",
         "y": [
          152500,
          40570
         ],
         "yaxis": "y"
        },
        {
         "hovertemplate": "Job Title=ML Engineer<br>Year=%{x}<br>Average Salary (USD)=%{y}<extra></extra>",
         "legendgroup": "ML Engineer",
         "line": {
          "color": "#19d3f3",
          "dash": "solid"
         },
         "marker": {
          "symbol": "circle"
         },
         "mode": "lines+markers",
         "name": "ML Engineer",
         "orientation": "v",
         "showlegend": true,
         "type": "scatter",
         "x": [
          2020,
          2021,
          2022
         ],
         "xaxis": "x",
         "y": [
          15966,
          166768.75,
          21983
         ],
         "yaxis": "y"
        },
        {
         "hovertemplate": "Job Title=Machine Learning Engineer<br>Year=%{x}<br>Average Salary (USD)=%{y}<extra></extra>",
         "legendgroup": "Machine Learning Engineer",
         "line": {
          "color": "#FF6692",
          "dash": "solid"
         },
         "marker": {
          "symbol": "circle"
         },
         "mode": "lines+markers",
         "name": "Machine Learning Engineer",
         "orientation": "v",
         "showlegend": true,
         "type": "scatter",
         "x": [
          2020,
          2021,
          2022
         ],
         "xaxis": "x",
         "y": [
          125389.8,
          74611.22222222222,
          129451.94444444444
         ],
         "yaxis": "y"
        },
        {
         "hovertemplate": "Job Title=Machine Learning Infrastructure Engineer<br>Year=%{x}<br>Average Salary (USD)=%{y}<extra></extra>",
         "legendgroup": "Machine Learning Infrastructure Engineer",
         "line": {
          "color": "#B6E880",
          "dash": "solid"
         },
         "marker": {
          "symbol": "circle"
         },
         "mode": "lines+markers",
         "name": "Machine Learning Infrastructure Engineer",
         "orientation": "v",
         "showlegend": true,
         "type": "scatter",
         "x": [
          2020,
          2021,
          2022
         ],
         "xaxis": "x",
         "y": [
          50180,
          195000,
          58255
         ],
         "yaxis": "y"
        },
        {
         "hovertemplate": "Job Title=Machine Learning Manager<br>Year=%{x}<br>Average Salary (USD)=%{y}<extra></extra>",
         "legendgroup": "Machine Learning Manager",
         "line": {
          "color": "#FF97FF",
          "dash": "solid"
         },
         "marker": {
          "symbol": "circle"
         },
         "mode": "lines+markers",
         "name": "Machine Learning Manager",
         "orientation": "v",
         "showlegend": true,
         "type": "scatter",
         "x": [
          2020
         ],
         "xaxis": "x",
         "y": [
          117104
         ],
         "yaxis": "y"
        },
        {
         "hovertemplate": "Job Title=Machine Learning Scientist<br>Year=%{x}<br>Average Salary (USD)=%{y}<extra></extra>",
         "legendgroup": "Machine Learning Scientist",
         "line": {
          "color": "#FECB52",
          "dash": "solid"
         },
         "marker": {
          "symbol": "circle"
         },
         "mode": "lines+markers",
         "name": "Machine Learning Scientist",
         "orientation": "v",
         "showlegend": true,
         "type": "scatter",
         "x": [
          2020,
          2021,
          2022
         ],
         "xaxis": "x",
         "y": [
          260000,
          145500,
          141766.66666666666
         ],
         "yaxis": "y"
        },
        {
         "hovertemplate": "Job Title=Principal Data Scientist<br>Year=%{x}<br>Average Salary (USD)=%{y}<extra></extra>",
         "legendgroup": "Principal Data Scientist",
         "line": {
          "color": "#636efa",
          "dash": "solid"
         },
         "marker": {
          "symbol": "circle"
         },
         "mode": "lines+markers",
         "name": "Principal Data Scientist",
         "orientation": "v",
         "showlegend": true,
         "type": "scatter",
         "x": [
          2020,
          2021,
          2022
         ],
         "xaxis": "x",
         "y": [
          148261,
          239152.4,
          162674
         ],
         "yaxis": "y"
        },
        {
         "hovertemplate": "Job Title=Product Data Analyst<br>Year=%{x}<br>Average Salary (USD)=%{y}<extra></extra>",
         "legendgroup": "Product Data Analyst",
         "line": {
          "color": "#EF553B",
          "dash": "solid"
         },
         "marker": {
          "symbol": "circle"
         },
         "mode": "lines+markers",
         "name": "Product Data Analyst",
         "orientation": "v",
         "showlegend": true,
         "type": "scatter",
         "x": [
          2020
         ],
         "xaxis": "x",
         "y": [
          13036
         ],
         "yaxis": "y"
        },
        {
         "hovertemplate": "Job Title=Research Scientist<br>Year=%{x}<br>Average Salary (USD)=%{y}<extra></extra>",
         "legendgroup": "Research Scientist",
         "line": {
          "color": "#00cc96",
          "dash": "solid"
         },
         "marker": {
          "symbol": "circle"
         },
         "mode": "lines+markers",
         "name": "Research Scientist",
         "orientation": "v",
         "showlegend": true,
         "type": "scatter",
         "x": [
          2020,
          2021,
          2022
         ],
         "xaxis": "x",
         "y": [
          246000,
          83003.6,
          105569
         ],
         "yaxis": "y"
        },
        {
         "hovertemplate": "Job Title=3D Computer Vision Researcher<br>Year=%{x}<br>Average Salary (USD)=%{y}<extra></extra>",
         "legendgroup": "3D Computer Vision Researcher",
         "line": {
          "color": "#ab63fa",
          "dash": "solid"
         },
         "marker": {
          "symbol": "circle"
         },
         "mode": "lines+markers",
         "name": "3D Computer Vision Researcher",
         "orientation": "v",
         "showlegend": true,
         "type": "scatter",
         "x": [
          2021
         ],
         "xaxis": "x",
         "y": [
          5409
         ],
         "yaxis": "y"
        },
        {
         "hovertemplate": "Job Title=Applied Data Scientist<br>Year=%{x}<br>Average Salary (USD)=%{y}<extra></extra>",
         "legendgroup": "Applied Data Scientist",
         "line": {
          "color": "#FFA15A",
          "dash": "solid"
         },
         "marker": {
          "symbol": "circle"
         },
         "mode": "lines+markers",
         "name": "Applied Data Scientist",
         "orientation": "v",
         "showlegend": true,
         "type": "scatter",
         "x": [
          2021,
          2022
         ],
         "xaxis": "x",
         "y": [
          82137.5,
          238000
         ],
         "yaxis": "y"
        },
        {
         "hovertemplate": "Job Title=Applied Machine Learning Scientist<br>Year=%{x}<br>Average Salary (USD)=%{y}<extra></extra>",
         "legendgroup": "Applied Machine Learning Scientist",
         "line": {
          "color": "#19d3f3",
          "dash": "solid"
         },
         "marker": {
          "symbol": "circle"
         },
         "mode": "lines+markers",
         "name": "Applied Machine Learning Scientist",
         "orientation": "v",
         "showlegend": true,
         "type": "scatter",
         "x": [
          2021,
          2022
         ],
         "xaxis": "x",
         "y": [
          230700,
          53437.5
         ],
         "yaxis": "y"
        },
        {
         "hovertemplate": "Job Title=Big Data Architect<br>Year=%{x}<br>Average Salary (USD)=%{y}<extra></extra>",
         "legendgroup": "Big Data Architect",
         "line": {
          "color": "#FF6692",
          "dash": "solid"
         },
         "marker": {
          "symbol": "circle"
         },
         "mode": "lines+markers",
         "name": "Big Data Architect",
         "orientation": "v",
         "showlegend": true,
         "type": "scatter",
         "x": [
          2021
         ],
         "xaxis": "x",
         "y": [
          99703
         ],
         "yaxis": "y"
        },
        {
         "hovertemplate": "Job Title=Cloud Data Engineer<br>Year=%{x}<br>Average Salary (USD)=%{y}<extra></extra>",
         "legendgroup": "Cloud Data Engineer",
         "line": {
          "color": "#B6E880",
          "dash": "solid"
         },
         "marker": {
          "symbol": "circle"
         },
         "mode": "lines+markers",
         "name": "Cloud Data Engineer",
         "orientation": "v",
         "showlegend": true,
         "type": "scatter",
         "x": [
          2021
         ],
         "xaxis": "x",
         "y": [
          124647
         ],
         "yaxis": "y"
        },
        {
         "hovertemplate": "Job Title=Computer Vision Software Engineer<br>Year=%{x}<br>Average Salary (USD)=%{y}<extra></extra>",
         "legendgroup": "Computer Vision Software Engineer",
         "line": {
          "color": "#FF97FF",
          "dash": "solid"
         },
         "marker": {
          "symbol": "circle"
         },
         "mode": "lines+markers",
         "name": "Computer Vision Software Engineer",
         "orientation": "v",
         "showlegend": true,
         "type": "scatter",
         "x": [
          2021,
          2022
         ],
         "xaxis": "x",
         "y": [
          82873,
          150000
         ],
         "yaxis": "y"
        },
        {
         "hovertemplate": "Job Title=Data Analytics Engineer<br>Year=%{x}<br>Average Salary (USD)=%{y}<extra></extra>",
         "legendgroup": "Data Analytics Engineer",
         "line": {
          "color": "#FECB52",
          "dash": "solid"
         },
         "marker": {
          "symbol": "circle"
         },
         "mode": "lines+markers",
         "name": "Data Analytics Engineer",
         "orientation": "v",
         "showlegend": true,
         "type": "scatter",
         "x": [
          2021,
          2022
         ],
         "xaxis": "x",
         "y": [
          79732.33333333333,
          20000
         ],
         "yaxis": "y"
        },
        {
         "hovertemplate": "Job Title=Data Analytics Manager<br>Year=%{x}<br>Average Salary (USD)=%{y}<extra></extra>",
         "legendgroup": "Data Analytics Manager",
         "line": {
          "color": "#636efa",
          "dash": "solid"
         },
         "marker": {
          "symbol": "circle"
         },
         "mode": "lines+markers",
         "name": "Data Analytics Manager",
         "orientation": "v",
         "showlegend": true,
         "type": "scatter",
         "x": [
          2021,
          2022
         ],
         "xaxis": "x",
         "y": [
          126666.66666666667,
          127485
         ],
         "yaxis": "y"
        },
        {
         "hovertemplate": "Job Title=Data Architect<br>Year=%{x}<br>Average Salary (USD)=%{y}<extra></extra>",
         "legendgroup": "Data Architect",
         "line": {
          "color": "#EF553B",
          "dash": "solid"
         },
         "marker": {
          "symbol": "circle"
         },
         "mode": "lines+markers",
         "name": "Data Architect",
         "orientation": "v",
         "showlegend": true,
         "type": "scatter",
         "x": [
          2021,
          2022
         ],
         "xaxis": "x",
         "y": [
          166666.66666666666,
          182076.625
         ],
         "yaxis": "y"
        },
        {
         "hovertemplate": "Job Title=Data Science Engineer<br>Year=%{x}<br>Average Salary (USD)=%{y}<extra></extra>",
         "legendgroup": "Data Science Engineer",
         "line": {
          "color": "#00cc96",
          "dash": "solid"
         },
         "marker": {
          "symbol": "circle"
         },
         "mode": "lines+markers",
         "name": "Data Science Engineer",
         "orientation": "v",
         "showlegend": true,
         "type": "scatter",
         "x": [
          2021,
          2022
         ],
         "xaxis": "x",
         "y": [
          83705,
          60000
         ],
         "yaxis": "y"
        },
        {
         "hovertemplate": "Job Title=Data Specialist<br>Year=%{x}<br>Average Salary (USD)=%{y}<extra></extra>",
         "legendgroup": "Data Specialist",
         "line": {
          "color": "#ab63fa",
          "dash": "solid"
         },
         "marker": {
          "symbol": "circle"
         },
         "mode": "lines+markers",
         "name": "Data Specialist",
         "orientation": "v",
         "showlegend": true,
         "type": "scatter",
         "x": [
          2021
         ],
         "xaxis": "x",
         "y": [
          165000
         ],
         "yaxis": "y"
        },
        {
         "hovertemplate": "Job Title=Director of Data Engineering<br>Year=%{x}<br>Average Salary (USD)=%{y}<extra></extra>",
         "legendgroup": "Director of Data Engineering",
         "line": {
          "color": "#FFA15A",
          "dash": "solid"
         },
         "marker": {
          "symbol": "circle"
         },
         "mode": "lines+markers",
         "name": "Director of Data Engineering",
         "orientation": "v",
         "showlegend": true,
         "type": "scatter",
         "x": [
          2021
         ],
         "xaxis": "x",
         "y": [
          156738
         ],
         "yaxis": "y"
        },
        {
         "hovertemplate": "Job Title=Finance Data Analyst<br>Year=%{x}<br>Average Salary (USD)=%{y}<extra></extra>",
         "legendgroup": "Finance Data Analyst",
         "line": {
          "color": "#19d3f3",
          "dash": "solid"
         },
         "marker": {
          "symbol": "circle"
         },
         "mode": "lines+markers",
         "name": "Finance Data Analyst",
         "orientation": "v",
         "showlegend": true,
         "type": "scatter",
         "x": [
          2021
         ],
         "xaxis": "x",
         "y": [
          61896
         ],
         "yaxis": "y"
        },
        {
         "hovertemplate": "Job Title=Financial Data Analyst<br>Year=%{x}<br>Average Salary (USD)=%{y}<extra></extra>",
         "legendgroup": "Financial Data Analyst",
         "line": {
          "color": "#FF6692",
          "dash": "solid"
         },
         "marker": {
          "symbol": "circle"
         },
         "mode": "lines+markers",
         "name": "Financial Data Analyst",
         "orientation": "v",
         "showlegend": true,
         "type": "scatter",
         "x": [
          2021,
          2022
         ],
         "xaxis": "x",
         "y": [
          450000,
          100000
         ],
         "yaxis": "y"
        },
        {
         "hovertemplate": "Job Title=Head of Data<br>Year=%{x}<br>Average Salary (USD)=%{y}<extra></extra>",
         "legendgroup": "Head of Data",
         "line": {
          "color": "#B6E880",
          "dash": "solid"
         },
         "marker": {
          "symbol": "circle"
         },
         "mode": "lines+markers",
         "name": "Head of Data",
         "orientation": "v",
         "showlegend": true,
         "type": "scatter",
         "x": [
          2021,
          2022
         ],
         "xaxis": "x",
         "y": [
          189279.66666666666,
          116487
         ],
         "yaxis": "y"
        },
        {
         "hovertemplate": "Job Title=Head of Data Science<br>Year=%{x}<br>Average Salary (USD)=%{y}<extra></extra>",
         "legendgroup": "Head of Data Science",
         "line": {
          "color": "#FF97FF",
          "dash": "solid"
         },
         "marker": {
          "symbol": "circle"
         },
         "mode": "lines+markers",
         "name": "Head of Data Science",
         "orientation": "v",
         "showlegend": true,
         "type": "scatter",
         "x": [
          2021,
          2022
         ],
         "xaxis": "x",
         "y": [
          97500,
          195937.5
         ],
         "yaxis": "y"
        },
        {
         "hovertemplate": "Job Title=Machine Learning Developer<br>Year=%{x}<br>Average Salary (USD)=%{y}<extra></extra>",
         "legendgroup": "Machine Learning Developer",
         "line": {
          "color": "#FECB52",
          "dash": "solid"
         },
         "marker": {
          "symbol": "circle"
         },
         "mode": "lines+markers",
         "name": "Machine Learning Developer",
         "orientation": "v",
         "showlegend": true,
         "type": "scatter",
         "x": [
          2021,
          2022
         ],
         "xaxis": "x",
         "y": [
          100000,
          78791
         ],
         "yaxis": "y"
        },
        {
         "hovertemplate": "Job Title=Marketing Data Analyst<br>Year=%{x}<br>Average Salary (USD)=%{y}<extra></extra>",
         "legendgroup": "Marketing Data Analyst",
         "line": {
          "color": "#636efa",
          "dash": "solid"
         },
         "marker": {
          "symbol": "circle"
         },
         "mode": "lines+markers",
         "name": "Marketing Data Analyst",
         "orientation": "v",
         "showlegend": true,
         "type": "scatter",
         "x": [
          2021
         ],
         "xaxis": "x",
         "y": [
          88654
         ],
         "yaxis": "y"
        },
        {
         "hovertemplate": "Job Title=Principal Data Analyst<br>Year=%{x}<br>Average Salary (USD)=%{y}<extra></extra>",
         "legendgroup": "Principal Data Analyst",
         "line": {
          "color": "#EF553B",
          "dash": "solid"
         },
         "marker": {
          "symbol": "circle"
         },
         "mode": "lines+markers",
         "name": "Principal Data Analyst",
         "orientation": "v",
         "showlegend": true,
         "type": "scatter",
         "x": [
          2021,
          2022
         ],
         "xaxis": "x",
         "y": [
          170000,
          75000
         ],
         "yaxis": "y"
        },
        {
         "hovertemplate": "Job Title=Principal Data Engineer<br>Year=%{x}<br>Average Salary (USD)=%{y}<extra></extra>",
         "legendgroup": "Principal Data Engineer",
         "line": {
          "color": "#00cc96",
          "dash": "solid"
         },
         "marker": {
          "symbol": "circle"
         },
         "mode": "lines+markers",
         "name": "Principal Data Engineer",
         "orientation": "v",
         "showlegend": true,
         "type": "scatter",
         "x": [
          2021
         ],
         "xaxis": "x",
         "y": [
          328333.3333333333
         ],
         "yaxis": "y"
        },
        {
         "hovertemplate": "Job Title=Staff Data Scientist<br>Year=%{x}<br>Average Salary (USD)=%{y}<extra></extra>",
         "legendgroup": "Staff Data Scientist",
         "line": {
          "color": "#ab63fa",
          "dash": "solid"
         },
         "marker": {
          "symbol": "circle"
         },
         "mode": "lines+markers",
         "name": "Staff Data Scientist",
         "orientation": "v",
         "showlegend": true,
         "type": "scatter",
         "x": [
          2021
         ],
         "xaxis": "x",
         "y": [
          105000
         ],
         "yaxis": "y"
        },
        {
         "hovertemplate": "Job Title=Analytics Engineer<br>Year=%{x}<br>Average Salary (USD)=%{y}<extra></extra>",
         "legendgroup": "Analytics Engineer",
         "line": {
          "color": "#FFA15A",
          "dash": "solid"
         },
         "marker": {
          "symbol": "circle"
         },
         "mode": "lines+markers",
         "name": "Analytics Engineer",
         "orientation": "v",
         "showlegend": true,
         "type": "scatter",
         "x": [
          2022
         ],
         "xaxis": "x",
         "y": [
          175000
         ],
         "yaxis": "y"
        },
        {
         "hovertemplate": "Job Title=Data Analytics Lead<br>Year=%{x}<br>Average Salary (USD)=%{y}<extra></extra>",
         "legendgroup": "Data Analytics Lead",
         "line": {
          "color": "#19d3f3",
          "dash": "solid"
         },
         "marker": {
          "symbol": "circle"
         },
         "mode": "lines+markers",
         "name": "Data Analytics Lead",
         "orientation": "v",
         "showlegend": true,
         "type": "scatter",
         "x": [
          2022
         ],
         "xaxis": "x",
         "y": [
          405000
         ],
         "yaxis": "y"
        },
        {
         "hovertemplate": "Job Title=ETL Developer<br>Year=%{x}<br>Average Salary (USD)=%{y}<extra></extra>",
         "legendgroup": "ETL Developer",
         "line": {
          "color": "#FF6692",
          "dash": "solid"
         },
         "marker": {
          "symbol": "circle"
         },
         "mode": "lines+markers",
         "name": "ETL Developer",
         "orientation": "v",
         "showlegend": true,
         "type": "scatter",
         "x": [
          2022
         ],
         "xaxis": "x",
         "y": [
          54957
         ],
         "yaxis": "y"
        },
        {
         "hovertemplate": "Job Title=Head of Machine Learning<br>Year=%{x}<br>Average Salary (USD)=%{y}<extra></extra>",
         "legendgroup": "Head of Machine Learning",
         "line": {
          "color": "#B6E880",
          "dash": "solid"
         },
         "marker": {
          "symbol": "circle"
         },
         "mode": "lines+markers",
         "name": "Head of Machine Learning",
         "orientation": "v",
         "showlegend": true,
         "type": "scatter",
         "x": [
          2022
         ],
         "xaxis": "x",
         "y": [
          79039
         ],
         "yaxis": "y"
        },
        {
         "hovertemplate": "Job Title=Lead Machine Learning Engineer<br>Year=%{x}<br>Average Salary (USD)=%{y}<extra></extra>",
         "legendgroup": "Lead Machine Learning Engineer",
         "line": {
          "color": "#FF97FF",
          "dash": "solid"
         },
         "marker": {
          "symbol": "circle"
         },
         "mode": "lines+markers",
         "name": "Lead Machine Learning Engineer",
         "orientation": "v",
         "showlegend": true,
         "type": "scatter",
         "x": [
          2022
         ],
         "xaxis": "x",
         "y": [
          87932
         ],
         "yaxis": "y"
        },
        {
         "hovertemplate": "Job Title=NLP Engineer<br>Year=%{x}<br>Average Salary (USD)=%{y}<extra></extra>",
         "legendgroup": "NLP Engineer",
         "line": {
          "color": "#FECB52",
          "dash": "solid"
         },
         "marker": {
          "symbol": "circle"
         },
         "mode": "lines+markers",
         "name": "NLP Engineer",
         "orientation": "v",
         "showlegend": true,
         "type": "scatter",
         "x": [
          2022
         ],
         "xaxis": "x",
         "y": [
          37236
         ],
         "yaxis": "y"
        }
       ],
       "layout": {
        "legend": {
         "title": {
          "text": "Job Title"
         },
         "tracegroupgap": 0
        },
        "template": {
         "data": {
          "bar": [
           {
            "error_x": {
             "color": "#f2f5fa"
            },
            "error_y": {
             "color": "#f2f5fa"
            },
            "marker": {
             "line": {
              "color": "rgb(17,17,17)",
              "width": 0.5
             },
             "pattern": {
              "fillmode": "overlay",
              "size": 10,
              "solidity": 0.2
             }
            },
            "type": "bar"
           }
          ],
          "barpolar": [
           {
            "marker": {
             "line": {
              "color": "rgb(17,17,17)",
              "width": 0.5
             },
             "pattern": {
              "fillmode": "overlay",
              "size": 10,
              "solidity": 0.2
             }
            },
            "type": "barpolar"
           }
          ],
          "carpet": [
           {
            "aaxis": {
             "endlinecolor": "#A2B1C6",
             "gridcolor": "#506784",
             "linecolor": "#506784",
             "minorgridcolor": "#506784",
             "startlinecolor": "#A2B1C6"
            },
            "baxis": {
             "endlinecolor": "#A2B1C6",
             "gridcolor": "#506784",
             "linecolor": "#506784",
             "minorgridcolor": "#506784",
             "startlinecolor": "#A2B1C6"
            },
            "type": "carpet"
           }
          ],
          "choropleth": [
           {
            "colorbar": {
             "outlinewidth": 0,
             "ticks": ""
            },
            "type": "choropleth"
           }
          ],
          "contour": [
           {
            "colorbar": {
             "outlinewidth": 0,
             "ticks": ""
            },
            "colorscale": [
             [
              0,
              "#0d0887"
             ],
             [
              0.1111111111111111,
              "#46039f"
             ],
             [
              0.2222222222222222,
              "#7201a8"
             ],
             [
              0.3333333333333333,
              "#9c179e"
             ],
             [
              0.4444444444444444,
              "#bd3786"
             ],
             [
              0.5555555555555556,
              "#d8576b"
             ],
             [
              0.6666666666666666,
              "#ed7953"
             ],
             [
              0.7777777777777778,
              "#fb9f3a"
             ],
             [
              0.8888888888888888,
              "#fdca26"
             ],
             [
              1,
              "#f0f921"
             ]
            ],
            "type": "contour"
           }
          ],
          "contourcarpet": [
           {
            "colorbar": {
             "outlinewidth": 0,
             "ticks": ""
            },
            "type": "contourcarpet"
           }
          ],
          "heatmap": [
           {
            "colorbar": {
             "outlinewidth": 0,
             "ticks": ""
            },
            "colorscale": [
             [
              0,
              "#0d0887"
             ],
             [
              0.1111111111111111,
              "#46039f"
             ],
             [
              0.2222222222222222,
              "#7201a8"
             ],
             [
              0.3333333333333333,
              "#9c179e"
             ],
             [
              0.4444444444444444,
              "#bd3786"
             ],
             [
              0.5555555555555556,
              "#d8576b"
             ],
             [
              0.6666666666666666,
              "#ed7953"
             ],
             [
              0.7777777777777778,
              "#fb9f3a"
             ],
             [
              0.8888888888888888,
              "#fdca26"
             ],
             [
              1,
              "#f0f921"
             ]
            ],
            "type": "heatmap"
           }
          ],
          "heatmapgl": [
           {
            "colorbar": {
             "outlinewidth": 0,
             "ticks": ""
            },
            "colorscale": [
             [
              0,
              "#0d0887"
             ],
             [
              0.1111111111111111,
              "#46039f"
             ],
             [
              0.2222222222222222,
              "#7201a8"
             ],
             [
              0.3333333333333333,
              "#9c179e"
             ],
             [
              0.4444444444444444,
              "#bd3786"
             ],
             [
              0.5555555555555556,
              "#d8576b"
             ],
             [
              0.6666666666666666,
              "#ed7953"
             ],
             [
              0.7777777777777778,
              "#fb9f3a"
             ],
             [
              0.8888888888888888,
              "#fdca26"
             ],
             [
              1,
              "#f0f921"
             ]
            ],
            "type": "heatmapgl"
           }
          ],
          "histogram": [
           {
            "marker": {
             "pattern": {
              "fillmode": "overlay",
              "size": 10,
              "solidity": 0.2
             }
            },
            "type": "histogram"
           }
          ],
          "histogram2d": [
           {
            "colorbar": {
             "outlinewidth": 0,
             "ticks": ""
            },
            "colorscale": [
             [
              0,
              "#0d0887"
             ],
             [
              0.1111111111111111,
              "#46039f"
             ],
             [
              0.2222222222222222,
              "#7201a8"
             ],
             [
              0.3333333333333333,
              "#9c179e"
             ],
             [
              0.4444444444444444,
              "#bd3786"
             ],
             [
              0.5555555555555556,
              "#d8576b"
             ],
             [
              0.6666666666666666,
              "#ed7953"
             ],
             [
              0.7777777777777778,
              "#fb9f3a"
             ],
             [
              0.8888888888888888,
              "#fdca26"
             ],
             [
              1,
              "#f0f921"
             ]
            ],
            "type": "histogram2d"
           }
          ],
          "histogram2dcontour": [
           {
            "colorbar": {
             "outlinewidth": 0,
             "ticks": ""
            },
            "colorscale": [
             [
              0,
              "#0d0887"
             ],
             [
              0.1111111111111111,
              "#46039f"
             ],
             [
              0.2222222222222222,
              "#7201a8"
             ],
             [
              0.3333333333333333,
              "#9c179e"
             ],
             [
              0.4444444444444444,
              "#bd3786"
             ],
             [
              0.5555555555555556,
              "#d8576b"
             ],
             [
              0.6666666666666666,
              "#ed7953"
             ],
             [
              0.7777777777777778,
              "#fb9f3a"
             ],
             [
              0.8888888888888888,
              "#fdca26"
             ],
             [
              1,
              "#f0f921"
             ]
            ],
            "type": "histogram2dcontour"
           }
          ],
          "mesh3d": [
           {
            "colorbar": {
             "outlinewidth": 0,
             "ticks": ""
            },
            "type": "mesh3d"
           }
          ],
          "parcoords": [
           {
            "line": {
             "colorbar": {
              "outlinewidth": 0,
              "ticks": ""
             }
            },
            "type": "parcoords"
           }
          ],
          "pie": [
           {
            "automargin": true,
            "type": "pie"
           }
          ],
          "scatter": [
           {
            "marker": {
             "line": {
              "color": "#283442"
             }
            },
            "type": "scatter"
           }
          ],
          "scatter3d": [
           {
            "line": {
             "colorbar": {
              "outlinewidth": 0,
              "ticks": ""
             }
            },
            "marker": {
             "colorbar": {
              "outlinewidth": 0,
              "ticks": ""
             }
            },
            "type": "scatter3d"
           }
          ],
          "scattercarpet": [
           {
            "marker": {
             "colorbar": {
              "outlinewidth": 0,
              "ticks": ""
             }
            },
            "type": "scattercarpet"
           }
          ],
          "scattergeo": [
           {
            "marker": {
             "colorbar": {
              "outlinewidth": 0,
              "ticks": ""
             }
            },
            "type": "scattergeo"
           }
          ],
          "scattergl": [
           {
            "marker": {
             "line": {
              "color": "#283442"
             }
            },
            "type": "scattergl"
           }
          ],
          "scattermapbox": [
           {
            "marker": {
             "colorbar": {
              "outlinewidth": 0,
              "ticks": ""
             }
            },
            "type": "scattermapbox"
           }
          ],
          "scatterpolar": [
           {
            "marker": {
             "colorbar": {
              "outlinewidth": 0,
              "ticks": ""
             }
            },
            "type": "scatterpolar"
           }
          ],
          "scatterpolargl": [
           {
            "marker": {
             "colorbar": {
              "outlinewidth": 0,
              "ticks": ""
             }
            },
            "type": "scatterpolargl"
           }
          ],
          "scatterternary": [
           {
            "marker": {
             "colorbar": {
              "outlinewidth": 0,
              "ticks": ""
             }
            },
            "type": "scatterternary"
           }
          ],
          "surface": [
           {
            "colorbar": {
             "outlinewidth": 0,
             "ticks": ""
            },
            "colorscale": [
             [
              0,
              "#0d0887"
             ],
             [
              0.1111111111111111,
              "#46039f"
             ],
             [
              0.2222222222222222,
              "#7201a8"
             ],
             [
              0.3333333333333333,
              "#9c179e"
             ],
             [
              0.4444444444444444,
              "#bd3786"
             ],
             [
              0.5555555555555556,
              "#d8576b"
             ],
             [
              0.6666666666666666,
              "#ed7953"
             ],
             [
              0.7777777777777778,
              "#fb9f3a"
             ],
             [
              0.8888888888888888,
              "#fdca26"
             ],
             [
              1,
              "#f0f921"
             ]
            ],
            "type": "surface"
           }
          ],
          "table": [
           {
            "cells": {
             "fill": {
              "color": "#506784"
             },
             "line": {
              "color": "rgb(17,17,17)"
             }
            },
            "header": {
             "fill": {
              "color": "#2a3f5f"
             },
             "line": {
              "color": "rgb(17,17,17)"
             }
            },
            "type": "table"
           }
          ]
         },
         "layout": {
          "annotationdefaults": {
           "arrowcolor": "#f2f5fa",
           "arrowhead": 0,
           "arrowwidth": 1
          },
          "autotypenumbers": "strict",
          "coloraxis": {
           "colorbar": {
            "outlinewidth": 0,
            "ticks": ""
           }
          },
          "colorscale": {
           "diverging": [
            [
             0,
             "#8e0152"
            ],
            [
             0.1,
             "#c51b7d"
            ],
            [
             0.2,
             "#de77ae"
            ],
            [
             0.3,
             "#f1b6da"
            ],
            [
             0.4,
             "#fde0ef"
            ],
            [
             0.5,
             "#f7f7f7"
            ],
            [
             0.6,
             "#e6f5d0"
            ],
            [
             0.7,
             "#b8e186"
            ],
            [
             0.8,
             "#7fbc41"
            ],
            [
             0.9,
             "#4d9221"
            ],
            [
             1,
             "#276419"
            ]
           ],
           "sequential": [
            [
             0,
             "#0d0887"
            ],
            [
             0.1111111111111111,
             "#46039f"
            ],
            [
             0.2222222222222222,
             "#7201a8"
            ],
            [
             0.3333333333333333,
             "#9c179e"
            ],
            [
             0.4444444444444444,
             "#bd3786"
            ],
            [
             0.5555555555555556,
             "#d8576b"
            ],
            [
             0.6666666666666666,
             "#ed7953"
            ],
            [
             0.7777777777777778,
             "#fb9f3a"
            ],
            [
             0.8888888888888888,
             "#fdca26"
            ],
            [
             1,
             "#f0f921"
            ]
           ],
           "sequentialminus": [
            [
             0,
             "#0d0887"
            ],
            [
             0.1111111111111111,
             "#46039f"
            ],
            [
             0.2222222222222222,
             "#7201a8"
            ],
            [
             0.3333333333333333,
             "#9c179e"
            ],
            [
             0.4444444444444444,
             "#bd3786"
            ],
            [
             0.5555555555555556,
             "#d8576b"
            ],
            [
             0.6666666666666666,
             "#ed7953"
            ],
            [
             0.7777777777777778,
             "#fb9f3a"
            ],
            [
             0.8888888888888888,
             "#fdca26"
            ],
            [
             1,
             "#f0f921"
            ]
           ]
          },
          "colorway": [
           "#636efa",
           "#EF553B",
           "#00cc96",
           "#ab63fa",
           "#FFA15A",
           "#19d3f3",
           "#FF6692",
           "#B6E880",
           "#FF97FF",
           "#FECB52"
          ],
          "font": {
           "color": "#f2f5fa"
          },
          "geo": {
           "bgcolor": "rgb(17,17,17)",
           "lakecolor": "rgb(17,17,17)",
           "landcolor": "rgb(17,17,17)",
           "showlakes": true,
           "showland": true,
           "subunitcolor": "#506784"
          },
          "hoverlabel": {
           "align": "left"
          },
          "hovermode": "closest",
          "mapbox": {
           "style": "dark"
          },
          "paper_bgcolor": "rgb(17,17,17)",
          "plot_bgcolor": "rgb(17,17,17)",
          "polar": {
           "angularaxis": {
            "gridcolor": "#506784",
            "linecolor": "#506784",
            "ticks": ""
           },
           "bgcolor": "rgb(17,17,17)",
           "radialaxis": {
            "gridcolor": "#506784",
            "linecolor": "#506784",
            "ticks": ""
           }
          },
          "scene": {
           "xaxis": {
            "backgroundcolor": "rgb(17,17,17)",
            "gridcolor": "#506784",
            "gridwidth": 2,
            "linecolor": "#506784",
            "showbackground": true,
            "ticks": "",
            "zerolinecolor": "#C8D4E3"
           },
           "yaxis": {
            "backgroundcolor": "rgb(17,17,17)",
            "gridcolor": "#506784",
            "gridwidth": 2,
            "linecolor": "#506784",
            "showbackground": true,
            "ticks": "",
            "zerolinecolor": "#C8D4E3"
           },
           "zaxis": {
            "backgroundcolor": "rgb(17,17,17)",
            "gridcolor": "#506784",
            "gridwidth": 2,
            "linecolor": "#506784",
            "showbackground": true,
            "ticks": "",
            "zerolinecolor": "#C8D4E3"
           }
          },
          "shapedefaults": {
           "line": {
            "color": "#f2f5fa"
           }
          },
          "sliderdefaults": {
           "bgcolor": "#C8D4E3",
           "bordercolor": "rgb(17,17,17)",
           "borderwidth": 1,
           "tickwidth": 0
          },
          "ternary": {
           "aaxis": {
            "gridcolor": "#506784",
            "linecolor": "#506784",
            "ticks": ""
           },
           "baxis": {
            "gridcolor": "#506784",
            "linecolor": "#506784",
            "ticks": ""
           },
           "bgcolor": "rgb(17,17,17)",
           "caxis": {
            "gridcolor": "#506784",
            "linecolor": "#506784",
            "ticks": ""
           }
          },
          "title": {
           "x": 0.05
          },
          "updatemenudefaults": {
           "bgcolor": "#506784",
           "borderwidth": 0
          },
          "xaxis": {
           "automargin": true,
           "gridcolor": "#283442",
           "linecolor": "#506784",
           "ticks": "",
           "title": {
            "standoff": 15
           },
           "zerolinecolor": "#283442",
           "zerolinewidth": 2
          },
          "yaxis": {
           "automargin": true,
           "gridcolor": "#283442",
           "linecolor": "#506784",
           "ticks": "",
           "title": {
            "standoff": 15
           },
           "zerolinecolor": "#283442",
           "zerolinewidth": 2
          }
         }
        },
        "title": {
         "text": "Salary Trends by Job Title Over the Years"
        },
        "xaxis": {
         "anchor": "y",
         "domain": [
          0,
          1
         ],
         "title": {
          "text": "Year"
         }
        },
        "yaxis": {
         "anchor": "x",
         "domain": [
          0,
          1
         ],
         "title": {
          "text": "Average Salary (USD)"
         }
        }
       }
      }
     },
     "metadata": {},
     "output_type": "display_data"
    }
   ],
   "source": [
    "import plotly.express as px\n",
    "\n",
    "avg_salary = df.groupby(['work_year', 'job_title'])['salary_in_usd'].mean().reset_index()\n",
    "\n",
    "\n",
    "fig = px.line(\n",
    "    avg_salary,\n",
    "    x='work_year',\n",
    "    y='salary_in_usd',\n",
    "    color='job_title',\n",
    "    markers=True,\n",
    "    title='Salary Trends by Job Title Over the Years',\n",
    "    labels={'work_year': 'Year', 'salary_in_usd': 'Average Salary (USD)', 'job_title': 'Job Title'},\n",
    "    template='plotly_dark'\n",
    ")\n",
    "\n",
    "fig.show()\n",
    "\n"
   ]
  },
  {
   "cell_type": "markdown",
   "id": "612f8e45",
   "metadata": {},
   "source": [
    "This line chart above highlights the average salary accross various job title within 2020 to 2022. It provides a clearer representation compared to scatterplot as it shows the trend more effectively, althought it may seem many lines crossing each other since there are many job titles. <br><br>\n",
    "**Key insights:**\n",
    "- The line chart showcases the job title overall trend based on average salary over a year, as it shows the significant increasing/decreasing in terms of salary between Financial Data Analyst & Applied Data Scientist within 2021-2022, reflecting an increasing demand of Applied Data Scientist role(approx 82k-238k) and less demand of Financial Data Analyst(450k-100k) within 2021-2022.\n",
    "\n",
    "- The chart also illustrates the salary stability of the roles, such as Data Scientist & Data Engineer display a consistent salary growth with a minimal fluctuations\n",
    "\n",
    "- There was also a new emerging role which is Data Analytic Lead potentially indicates a new career paths with a significant salary (405k)\n",
    "\n",
    "- Practically, this data can be crucial for Job Seekers who focuses on a job title with a consistent salary for their future career, for example a Data Scientist has a relatively flat trend line which indicates consistent demand and salary. Also, for Employers who are planning for recruitment, this will help them making a better decision in terms of adjusting the salary to attract a top talent seeker. \n",
    "\n",
    "Overall, this chart helps analyzing in making for career planning, recruitment strategies, and overall market trend analysis."
   ]
  }
 ],
 "metadata": {
  "kernelspec": {
   "display_name": "tf",
   "language": "python",
   "name": "python3"
  },
  "language_info": {
   "codemirror_mode": {
    "name": "ipython",
    "version": 3
   },
   "file_extension": ".py",
   "mimetype": "text/x-python",
   "name": "python",
   "nbconvert_exporter": "python",
   "pygments_lexer": "ipython3",
   "version": "3.11.5"
  }
 },
 "nbformat": 4,
 "nbformat_minor": 5
}
